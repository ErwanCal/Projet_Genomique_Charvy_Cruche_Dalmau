{
 "cells": [
  {
   "cell_type": "code",
   "execution_count": 1,
   "id": "2a1b43db",
   "metadata": {},
   "outputs": [],
   "source": [
    "from Bio import SeqIO # Permet l'import de la fonction parse\n",
    "from Bio.SeqIO.QualityIO import FastqGeneralIterator # Permet un parse plus rapide lorsque beaucoup de séquences (fastaq uniquement sinon voir site biopython pour fasta)\n",
    "import functools as ft # Permet de regrouper des listes pour radix sort\n",
    "import numpy as np\n",
    "\n",
    "from tqdm import tqdm # Permet d'estimer le temps d'éxécution sur un boucle\n",
    "from datetime import datetime # Permet de comparer la vitesse de 2 programmes "
   ]
  },
  {
   "cell_type": "markdown",
   "id": "3b8e3216",
   "metadata": {},
   "source": [
    "### Import des listes reads et genome"
   ]
  },
  {
   "cell_type": "code",
   "execution_count": 3,
   "id": "166d4fd2",
   "metadata": {},
   "outputs": [],
   "source": [
    "def genome_import() :\n",
    "    \"\"\"\n",
    "    Fonction qui importe depuis un fichier fasta la séquence du génome dans une liste contenant [\"seq\", \"n°k\"]\n",
    "    \"\"\"\n",
    "    list_genom=[]\n",
    "    for record in SeqIO.parse(\"GCF_000002765.5_GCA_000002765_genomic.fna\",\"fasta\"):\n",
    "        list_genom.append([str(record.seq).upper(),record.description[-14:]]) # attention le marquage est à changer pour la dernière séquence\n",
    "    \n",
    "    return list_genom\n",
    "\n",
    "def reads_import_cuts(k) :\n",
    "    \"\"\"\n",
    "    Fonction qui importe depuis un fichier fasta les séquences des reads et les coupes en les rangeant\n",
    "    dans une liste contenant [\"seq\", \"nom\", \"n°kmer\"]\n",
    "    \n",
    "    Entrée : k, int : longueur du kmer\n",
    "    \n",
    "    Sortie : list_reads : liste de tous les read découpés en kmers\n",
    "    \"\"\"\n",
    "    list_reads=[]\n",
    "    with open(\"single_Pfal_dat.fq\") as in_handle:\n",
    "        for title, seq, qual in tqdm(FastqGeneralIterator(in_handle), desc = \"Import sequence\"):\n",
    "            i = 1    # Incrémenteur du nombre de k-mer\n",
    "            while len(seq) >= 1 : # On parcoure toute la séquence\n",
    "                if len(seq) > k : # Cas où le k-mer est entier\n",
    "                    list_reads.append([str(seq[0:k]).upper(),title, i])\n",
    "                    i += 1\n",
    "                    seq = seq[k:]\n",
    "                else : # Cas où le dernier k-mer n'est pas entier\n",
    "                    list_reads.append([str(seq).upper(),title, i])\n",
    "                    seq = \"\"\n",
    "            \n",
    "    return list_reads"
   ]
  },
  {
   "cell_type": "code",
   "execution_count": 4,
   "id": "42d3f808",
   "metadata": {},
   "outputs": [
    {
     "name": "stderr",
     "output_type": "stream",
     "text": [
      "Import sequence: 1500000it [00:43, 34197.32it/s]"
     ]
    },
    {
     "name": "stdout",
     "output_type": "stream",
     "text": [
      "Temps total = 0:00:44.382836\n",
      "[['TTTCCTTTTT', 'NC_004325.2-100000', 1], ['AAGCGTTTTA', 'NC_004325.2-100000', 2], ['TTTTTTAATA', 'NC_004325.2-100000', 3], ['AAAAAAATAT', 'NC_004325.2-100000', 4], ['AGTATTATAT', 'NC_004325.2-100000', 5], ['AGTAACGGGT', 'NC_004325.2-100000', 6]]\n"
     ]
    },
    {
     "name": "stderr",
     "output_type": "stream",
     "text": [
      "\n"
     ]
    }
   ],
   "source": [
    "now = datetime.now()\n",
    "\n",
    "list_genom = genome_import()\n",
    "\n",
    "list_reads= reads_import_cuts(10)\n",
    "\n",
    "time_imp = datetime.now() - now\n",
    "print(\"Temps total =\", time_imp)\n",
    "print(list_reads[0:6])"
   ]
  },
  {
   "cell_type": "markdown",
   "id": "ed01b5b0",
   "metadata": {},
   "source": [
    "### Import de la DC3"
   ]
  },
  {
   "cell_type": "code",
   "execution_count": 5,
   "id": "72fe2fa2",
   "metadata": {},
   "outputs": [],
   "source": [
    "def import_file(filename, prog) :\n",
    "    \n",
    "    if prog == \"DC3\" :\n",
    "            filename = \"DC3_save/\" + filename\n",
    "    elif prog == \"Map\" :\n",
    "            filename = \"Mapping_save/\" + filename\n",
    "    \n",
    "    with open(filename, 'r') as f:\n",
    "        \n",
    "        # Partie DC3:\n",
    "        if prog == \"DC3\" :\n",
    "            text = f.readline()\n",
    "            data = text.split(\" \")[:-1]\n",
    "            print(data)\n",
    "            for i in range(len(data)) :\n",
    "                data[i] = int(data[i])\n",
    "            return(data)\n",
    "        \n",
    "        elif prog == \"Map\" :\n",
    "            n = int(f.readline())\n",
    "            data = []\n",
    "            for i in range(n):\n",
    "                temp = f.readline()\n",
    "                temp = temp.split(\"&\")\n",
    "                temp_lis = temp[3][1:-2].split(\",\") # Car il reste les []\n",
    "                lis = []\n",
    "                for j in range(len(temp_lis)) :\n",
    "                    lis.append(int(temp_lis[j]))\n",
    "                data.append([temp[0], temp[1], int(temp[2]), lis])\n",
    "            return data"
   ]
  },
  {
   "cell_type": "code",
   "execution_count": 10,
   "id": "982200a9",
   "metadata": {},
   "outputs": [
    {
     "name": "stderr",
     "output_type": "stream",
     "text": [
      "IOPub data rate exceeded.\n",
      "The notebook server will temporarily stop sending output\n",
      "to the client in order to avoid crashing it.\n",
      "To change this limit, set the config variable\n",
      "`--NotebookApp.iopub_data_rate_limit`.\n",
      "\n",
      "Current values:\n",
      "NotebookApp.iopub_data_rate_limit=1000000.0 (bytes/sec)\n",
      "NotebookApp.rate_limit_window=3.0 (secs)\n",
      "\n"
     ]
    }
   ],
   "source": [
    "DC3_chrom1 = import_file(\"DC3_chrom1.txt\", \"DC3\")"
   ]
  },
  {
   "cell_type": "markdown",
   "id": "50c78519",
   "metadata": {},
   "source": [
    "### Fonction de string search"
   ]
  },
  {
   "cell_type": "code",
   "execution_count": 6,
   "id": "b38b681f",
   "metadata": {},
   "outputs": [],
   "source": [
    "def BWT(text,suffix_table):\n",
    "    \"\"\"\n",
    "    Compute the BWT from the suffix table\n",
    "\n",
    "    Args:\n",
    "        T (str): string\n",
    "        end_of_string (char): end of string character to append\n",
    "\n",
    "    Return:\n",
    "        bwt (str): BWT\n",
    "    \"\"\"\n",
    "    bwt = \"\"\n",
    "    sf_tab = suffix_table\n",
    "    for i in range(len(sf_tab)):\n",
    "        crt = sf_tab[i]\n",
    "        bwt += text[crt-1]\n",
    "    return(bwt)"
   ]
  },
  {
   "cell_type": "code",
   "execution_count": 7,
   "id": "de81458f",
   "metadata": {},
   "outputs": [],
   "source": [
    "def pattern_matching_BWT(S,pattern,bwt,index,somme):\n",
    "    \"\"\"\n",
    "    Search a pattern in a String using the BWT\n",
    "\n",
    "    Args:\n",
    "        S (str): string\n",
    "        pattern (str): pattern\n",
    "        bwt : the bwt of the text (to not compute it each time)\n",
    "\n",
    "    Return:\n",
    "        bool: true if the pattern is in the string\n",
    "        int : position of the first occurence of the pattern in the ordered text\n",
    "        int : position of the last occurence of the pattern in the ordered text\n",
    "    \"\"\"\n",
    "    pattern_in_S = False\n",
    "    L = list(bwt)\n",
    "    lpattern = list(pattern)\n",
    "    start_string = -1\n",
    "    end_string = -1\n",
    "    ##init des valeurs utiles pour la substring search\n",
    "    e = 0\n",
    "    f = len(L)\n",
    "    i = len(lpattern)-1\n",
    "    ##début de la boucle de recherche\n",
    "    while e < f and i > 0 :\n",
    "        X = lpattern[i]\n",
    "        Y = lpattern[i-1]\n",
    "        r = 0\n",
    "        s = 0\n",
    "        suite_impos = True\n",
    "        for tpl in somme :\n",
    "            if tpl[0]<X:\n",
    "                r = tpl[1] ##donne place du premier char dans la liste ordonnée\n",
    "            if tpl[0]==X:\n",
    "                s = tpl[1]-1 ##donne place du dernier char\n",
    "        if e>r:\n",
    "            r = e\n",
    "        if f<s:\n",
    "            s = f\n",
    "        for u in range(r,s+1):\n",
    "            if(suite_impos==False):##we use the boolean to exit the loop early\n",
    "                break\n",
    "            if L[u]==Y:\n",
    "                suite_impos= False\n",
    "                prev = 0\n",
    "                id = index[u]\n",
    "                start_string = u\n",
    "                for tpl in somme :\n",
    "                    if tpl[0]<Y:\n",
    "                        prev = tpl[1]\n",
    "                e = prev + id[1]-1\n",
    "        char_found = False  ##this allows to exit the loop early if the char has been found\n",
    "        for u in reversed(range(r,s+1)):\n",
    "            if(char_found or suite_impos):##on sort de la boucle si on trouve le char, ou si on sait déja qu'il n'est pas la\n",
    "                break\n",
    "            if L[u]==Y:\n",
    "                char_found = True\n",
    "                prev = 0\n",
    "                id = index[u]\n",
    "                end_string = u\n",
    "                for tpl in somme :\n",
    "                    if tpl[0]<Y:\n",
    "                        prev = tpl[1]\n",
    "                f = prev + id[1]-1\n",
    "        if suite_impos :## this will stop the loop if no char has been found in the previous one\n",
    "            break\n",
    "        i-=1\n",
    "\n",
    "    if suite_impos:\n",
    "        i = 0\n",
    "        pattern_in_S = False\n",
    "        return pattern_in_S,start_string,end_string\n",
    "    ##dans le cas où e = f, il faut vérifier que le reste du substring est bon\n",
    "    if i > 0 :\n",
    "        while i > 0 :\n",
    "            if L[e] != lpattern[i-1]:\n",
    "                break\n",
    "            prev = 0\n",
    "            id=index[e]\n",
    "            start_string = e\n",
    "            end_string = e\n",
    "            for tpl in somme :\n",
    "                if tpl[0]<L[e]:\n",
    "                    prev = tpl[1]\n",
    "\n",
    "            e = prev + id[1]\n",
    "            i -= 1\n",
    "    if i < 1 :\n",
    "        pattern_in_S = True\n",
    "\n",
    "    return pattern_in_S,start_string,end_string"
   ]
  },
  {
   "cell_type": "code",
   "execution_count": 8,
   "id": "307f0770",
   "metadata": {},
   "outputs": [],
   "source": [
    "def string_location(text,string,matches,suffix_table):\n",
    "    '''\n",
    "    Gives the position of each occurence of the substring in the text\n",
    "\n",
    "    Args :\n",
    "        text (string) : the text to search in\n",
    "        string (string) : the substring to be searched\n",
    "\n",
    "    Return :\n",
    "        ???\n",
    "    '''\n",
    "    result = matches\n",
    "    sft = suffix_table\n",
    "    list_occur = []\n",
    "    if result[0] == False :\n",
    "        print(\"No occurence of the substring was found\")\n",
    "        list_occur.append(-1)\n",
    "    else :\n",
    "        for i in range(result[1],(result[2]+1)):\n",
    "            id = sft[i-1]-1\n",
    "            list_occur.append(id)\n",
    "            print(text[id:id+len(string)])\n",
    "    return(list_occur)\n",
    "\n",
    "def k_positioning(text,patt,bwt,suffix_table):##permet d'obtenir la liste des positions\n",
    "    ##initialisation de l'alphabet, de l'index et du compteur total de char\n",
    "    L = list(bwt)\n",
    "    alphabet = ['$','A','C','G','T']\n",
    "    total = []\n",
    "    index = L+[]\n",
    "    for lett in alphabet:\n",
    "        cntr = 0\n",
    "        for i in range(len(L)):\n",
    "            if L[i]==lett:\n",
    "                cntr +=1\n",
    "                index[i]=(lett,cntr)\n",
    "        total.append((lett,cntr))##le faire en une liste somme et total\n",
    "    somme = []\n",
    "    som=0\n",
    "    for tpl in total:\n",
    "        som += tpl[1]\n",
    "        somme.append((tpl[0],som))\n",
    "    ##recuperation des positions des premiers et derniers patterns trouvés\n",
    "    mat = pattern_matching_BWT(text,patt,bwt,index,somme)\n",
    "    ##recupération et renvoi des positions de tout les patterns\n",
    "    return string_location(text,patt,mat,suffix_table)"
   ]
  },
  {
   "cell_type": "markdown",
   "id": "2d4218f1",
   "metadata": {},
   "source": [
    "### Appel de la fonction :"
   ]
  },
  {
   "cell_type": "code",
   "execution_count": 11,
   "id": "fbf20f5c",
   "metadata": {},
   "outputs": [
    {
     "name": "stdout",
     "output_type": "stream",
     "text": [
      "CTTCCTTTTG\n",
      "TTTCCTTTTT\n",
      "ATTCCTTTTT\n",
      "CTTCCTTTTT\n",
      "ATTCCTTTTT\n",
      "GTTCCTTTTT\n",
      "CTTCCTTTTT\n",
      "ATTCCTTTTT\n",
      "TTTCCTTTTT\n",
      "TTTCCTTTTT\n",
      "GTTCCTTTTT\n",
      "GTTCCTTTTT\n",
      "TTTCCTTTTT\n",
      "TTTCCTTTTT\n",
      "GTTCCTTTTT\n",
      "TTTCCTTTTT\n",
      "TTTCCTTTTT\n",
      "TTTCCTTTTT\n",
      "ATTCCTTTTT\n",
      "TTTCCTTTTT\n",
      "TTTCCTTTTT\n",
      "TTTCCTTTTT\n",
      "TTTCCTTTTT\n",
      "ATTCCTTTTT\n",
      "CTTCCTTTTT\n",
      "TTTCCTTTTT\n",
      "GTTCCTTTTT\n",
      "TTTCCTTTTT\n",
      "TTTCCTTTTT\n",
      "TTTCCTTTTT\n",
      "ATTCCTTTTT\n",
      "TTTCCTTTTT\n",
      "TTTCCTTTTT\n",
      "ATTCCTTTTT\n",
      "TTTCCTTTTT\n",
      "TTTCCTTTTT\n",
      "TTTCCTTTTT\n",
      "ATTCCTTTTT\n",
      "TTTCCTTTTT\n",
      "TTTCCTTTTT\n",
      "CTTCCTTTTT\n",
      "TTTCCTTTTT\n",
      "CTTCCTTTTT\n",
      "TTTCCTTTTT\n",
      "ATTCCTTTTT\n",
      "TTTCCTTTTT\n",
      "TTTCCTTTTT\n",
      "TTTCCTTTTT\n",
      "TTTCCTTTTT\n",
      "TTTCCTTTTT\n",
      "CTTCCTTTTT\n",
      "TTTCCTTTTT\n",
      "ATTCCTTTTT\n",
      "GTTCCTTTTT\n",
      "TTTCCTTTTT\n",
      "TTTCCTTTTT\n",
      "TTTCCTTTTT\n",
      "TTTCCTTTTT\n",
      "TTTCCTTTTT\n",
      "TTTCCTTTTT\n",
      "TTTCCTTTTT\n",
      "TTTCCTTTTT\n",
      "TTTCCTTTTT\n",
      "TTTCCTTTTT\n",
      "TTTCCTTTTT\n",
      "TTTCCTTTTT\n",
      "TTTCCTTTTT\n",
      "TTTCCTTTTT\n",
      "TTTCCTTTTT\n",
      "ATTCCTTTTT\n",
      "TTTCCTTTTT\n",
      "TTTCCTTTTT\n",
      "ATTCCTTTTT\n",
      "TTTCCTTTTT\n",
      "ATTCCTTTTT\n",
      "TTTCCTTTTT\n",
      "TTTCCTTTTT\n",
      "TTTCCTTTTT\n",
      "TTTCCTTTTT\n",
      "TTTCCTTTTT\n",
      "TTTCCTTTTT\n",
      "TTTCCTTTTT\n",
      "[87581, 198275, 291676, 52368, 452329, 441270, 541863, 237424, 346984, 412675, 284667, 504106, 222197, 222208, 230515, 222219, 141536, 278529, 236023, 472382, 95770, 370439, 308410, 295974, 545655, 373485, 66003, 593890, 68418, 593802, 278303, 423536, 536793, 252938, 249822, 201291, 380365, 540491, 569951, 361808, 390638, 434544, 551369, 52645, 593933, 389576, 293273, 73765, 444636, 412568, 405299, 253527, 610998, 211475, 436364, 436171, 436187, 436203, 436219, 436235, 436251, 436267, 436283, 436299, 444994, 264242, 225936, 436348, 436315, 286588, 292693, 357755, 352296, 378191, 96982, 357263, 487228, 334026, 412447, 396565, 304229, 226151]\n"
     ]
    }
   ],
   "source": [
    "sf_tab = DC3_chrom1\n",
    "text = list_genom[0][0] # Corespond au DC3_chrom1 non DC3\n",
    "pattern = list_reads[0][0] #Liste des pattern donc 15000000 de possibilité, changer le premier terme pour passer au pattern suivant\n",
    "\n",
    "bwt = BWT(text,sf_tab)\n",
    "\n",
    "\n",
    "print(k_positioning(text,pattern,bwt,sf_tab))"
   ]
  },
  {
   "cell_type": "code",
   "execution_count": 12,
   "id": "3cc90451",
   "metadata": {},
   "outputs": [
    {
     "name": "stdout",
     "output_type": "stream",
     "text": [
      "TTTCCTTTTT\n"
     ]
    }
   ],
   "source": [
    "print(list_reads[0][0]) # Affiche le vrai pattern pour le moment majoritairement retrouvé mais quelques erreurs d'identifications"
   ]
  },
  {
   "cell_type": "code",
   "execution_count": 14,
   "id": "72a90a05",
   "metadata": {},
   "outputs": [
    {
     "name": "stdout",
     "output_type": "stream",
     "text": [
      "CTTCCTTTTG\n"
     ]
    }
   ],
   "source": [
    "print(list_genom[0][0][87581:87591]) # Indice du premier pattern : ok position correcte !"
   ]
  },
  {
   "cell_type": "code",
   "execution_count": null,
   "id": "5975e201",
   "metadata": {},
   "outputs": [],
   "source": []
  }
 ],
 "metadata": {
  "kernelspec": {
   "display_name": "Python 3 (ipykernel)",
   "language": "python",
   "name": "python3"
  },
  "language_info": {
   "codemirror_mode": {
    "name": "ipython",
    "version": 3
   },
   "file_extension": ".py",
   "mimetype": "text/x-python",
   "name": "python",
   "nbconvert_exporter": "python",
   "pygments_lexer": "ipython3",
   "version": "3.9.13"
  }
 },
 "nbformat": 4,
 "nbformat_minor": 5
}
