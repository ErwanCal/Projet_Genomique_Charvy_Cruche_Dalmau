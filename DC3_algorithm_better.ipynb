{
 "cells": [
  {
   "cell_type": "markdown",
   "id": "8b9a8e07",
   "metadata": {},
   "source": [
    "### DC3 Algorithm"
   ]
  },
  {
   "cell_type": "code",
   "execution_count": 1,
   "id": "b9752be9",
   "metadata": {},
   "outputs": [
    {
     "name": "stdout",
     "output_type": "stream",
     "text": [
      "[([0, 0, 0], 5), ([97, 98, 0], 7), ([98, 99, 97], 3), ([98, 99, 97], 4), ([99, 97, 98], 2), ([99, 97, 98], 1), ([99, 97, 99], 6)]\n",
      "[([0, 0], 4), ([97, 98], 7), ([98, 99], 1), ([98, 99], 2), ([99, 97], 3), ([99, 97], 5), ([99, 97], 6)]\n"
     ]
    }
   ],
   "source": [
    "import radix_DC3_tuples as rd\n",
    "import numpy as np"
   ]
  },
  {
   "cell_type": "code",
   "execution_count": 2,
   "id": "23706726",
   "metadata": {},
   "outputs": [
    {
     "name": "stdout",
     "output_type": "stream",
     "text": [
      "[([0, 0, 0], 5), ([97, 98, 0], 7), ([98, 99, 97], 3), ([98, 99, 97], 4), ([99, 97, 98], 2), ([99, 97, 98], 1), ([99, 97, 99], 6)]\n",
      "[([0, 0], 4), ([97, 98], 7), ([98, 99], 1), ([98, 99], 2), ([99, 97], 3), ([99, 97], 5), ([99, 97], 6)]\n"
     ]
    }
   ],
   "source": [
    "#Import test\n",
    "\n",
    "lis_test=[([98,99,97],3),([98,99,97],4),([99,97,98],2),([0,0,0],5),([99,97,98],1),([99,97,99],6),([97,98,0],7)]\n",
    "rd.radix_sort(lis_test,3)\n",
    "print(lis_test)\n",
    "lis_test=[([98,99],1),([98,99],2),([99,97],3),([0,0],4),([99,97],5),([99,97],6),([97,98],7)]\n",
    "rd.radix_sort(lis_test,2)\n",
    "print(lis_test)"
   ]
  },
  {
   "cell_type": "code",
   "execution_count": 16,
   "id": "13a1c421",
   "metadata": {},
   "outputs": [],
   "source": [
    "def DC3(S, P_12_base = []) :\n",
    "    \"\"\"\n",
    "    Create the suffix array from DC3 algorithm, could be recursive if needed\n",
    "    \n",
    "    Args:\n",
    "        S (str): string\n",
    "        P_12_base : store P1+2 from recursion to map correctly recursivity\n",
    "    \n",
    "    Return:\n",
    "        index_012 : suffix array of S\n",
    "        order_12 : order of the next recursion to map correctly recursivity\n",
    "    \"\"\"\n",
    "    \n",
    "    DC3_table = np.zeros((3,len(S) + 3), dtype=int) # Les caractères sentinelles sont déja là !\n",
    "    \"\"\"\n",
    "    Table de DC3 qui contient en chaque ligne : \n",
    "    Ligne 0 : indice du caractère\n",
    "    Ligne 1 : conversion du caractère en nombre\n",
    "    Ligne 2 : Ordre de l'indice du caractère\n",
    "    \n",
    "    \"\"\"\n",
    "    for i in range(len(S) + 3) :\n",
    "            DC3_table[0][i] =  i # On remplace le caractère par son code Ascii\n",
    "    \n",
    "    #print(DC3_table)\n",
    "    \n",
    "    \n",
    "    # String conversion : !!!!! à n'executer que lors de la première récursion !!!!!\n",
    "    if type(S) == str :\n",
    "        S_l = [*S] # On sépare caractère par caractère : \"ATGC\" devient [\"A\",\"T\",\"G\",\"C\"]\n",
    "        for i in range(len(S_l)) :\n",
    "            DC3_table[1][i] =  ord(S_l[i]) # On rempli le caractère par son code Ascii dans la table\n",
    "    else :\n",
    "         for i in range(len(S)) :\n",
    "            DC3_table[1][i] =  S[i] # Cas où l'on rentre dans la boucle une deuxième fois ou plus, pas de conversion\n",
    "    \n",
    "    # Cas où la chaine n'est composé que d'une seule lettre : trivial car DC3 = ordre des indices en décroissant\n",
    "    if (sum(DC3_table[1])/len(S) == DC3_table[1][0]) : # On teste si la chaine n'est composé que d'une seule lettre\n",
    "        return [*range(len(S)-1,-1,-1)]\n",
    "    \n",
    "    \n",
    "    \"\"\"\n",
    "    for i in range(len(S), len(S) + 3, 1) :\n",
    "        conversion_l.append(0) # Ajout des 3 caractères sentinelles # A garder si pas tables de 0\n",
    "    \"\"\"\n",
    "    \n",
    "    # On crée P0, P1, P2 et P1+P2 :\n",
    "    \n",
    "    P0 = [*range(0,len(S)+1,3)] \n",
    "    P1 = [*range(1,len(S)+1,3)]\n",
    "    P2 = [*range(2,len(S)+1,3)]\n",
    "    \n",
    "    P_12 = P1 + P2\n",
    "    #print(P0, P1, P2)\n",
    "    #print(P_12)\n",
    "    \n",
    "    #Obtention des triplets à partir de P1+P2 :\n",
    "    \n",
    "    R_12 = []\n",
    "    for val in P_12 :\n",
    "        R_12.append([list(DC3_table[1][val:val+3]), val])\n",
    "\n",
    "    #print(R_12)\n",
    "    \n",
    "    rd.radix_sort(R_12,3) # On trie les triplets\n",
    "    \n",
    "    #print(R_12)\n",
    "    \n",
    "    index_12 = [] # Liste des indexes de R12 trié\n",
    "    order_count = 1 # Compteur pour remplir l'ordre\n",
    "    recur = False # Etat de la récursion tourné True si on a des égalités d'ordre\n",
    "    for j in range(len(R_12)) : # On parcours tous les triplets triés\n",
    "        index_12.append(R_12[j][1]) # ... pour lui attribuer son index depuis P_12\n",
    "        DC3_table[2][R_12[j][1]] = order_count # Et on ajoute l'ordre dans la table\n",
    "        if j < len(R_12)-1 :\n",
    "            if R_12[j][0] != R_12[j+1][0] : # On teste l'égalité des triplets pour mettre l'ordre\n",
    "                order_count += 1\n",
    "            else :\n",
    "                recur = True # On a égalité, donc on doit relancer l'algorithme à la fin des for\n",
    "        else :\n",
    "            order_count += 1\n",
    "    \n",
    "    #print(DC3_table, index_12)\n",
    "    \n",
    "    if recur == True :\n",
    "        new_S = [] # On crée T' la séquence des orders suivant l'ordre de P12\n",
    "        for l in P_12 :\n",
    "            new_S.append(DC3_table[2][l])\n",
    "        #print(new_S)\n",
    "        index_012 = DC3(new_S, P_12) # On doit récupérer ces deux paramètres sinon ça marche pas\n",
    "        index_12 = []\n",
    "        for ind,val in index_012 :\n",
    "            DC3_table[2][ind] = val\n",
    "            index_12.append(ind)\n",
    "            \n",
    "        #print(DC3_table)\n",
    "    \n",
    "    R_0 = [] # On crée la dernière partie à trier\n",
    "    for val in P0 :\n",
    "        R_0.append([[int(DC3_table[1][val]), DC3_table[2][val + 1]], val]) # On crée R0 avec son indice\n",
    "        \n",
    "    #print(R_0)\n",
    "    \n",
    "    rd.radix_sort(R_0,2)\n",
    "    \n",
    "    #print(R_0)\n",
    "    \n",
    "    index_0 = [] # Liste des indexes de R0 trié\n",
    "    for k in range(len(R_0)) : # On parcours tous les doublets triés\n",
    "       index_0.append(R_0[k][1]) # On récupère l'indice\n",
    "    \n",
    "    print(DC3_table[0:2], index_0, index_12)\n",
    "    \n",
    "    index_012 = [] # On crée l'index final en ordonant 0 et 1,2\n",
    "    i_0 = 0\n",
    "    i_12 = 0\n",
    "    while (i_0 < len(index_0) or i_12 < len(index_12)) : # On prends tout les éléments : on vide index 0 et 12\n",
    "        if i_0 == len(index_0) : # Cas où index 0 est vide, on rempli avec index 12\n",
    "            index_012.append(index_12[i_12])\n",
    "            i_12 += 1\n",
    "        elif i_12 == len(index_12) : # Cas où index 12 est vide, on rempli avec index 0\n",
    "            index_012.append(index_0[i_0])\n",
    "            i_0 += 1\n",
    "        elif int(DC3_table[1][index_0[i_0]]) > int(DC3_table[1][index_12[i_12]]) : # Cas où index 12 arrive avant index 0\n",
    "            index_012.append(index_12[i_12])\n",
    "            i_12 += 1\n",
    "        elif int(DC3_table[1][index_0[i_0]]) < int(DC3_table[1][index_12[i_12]]) : # Cas où index 0 arrive avant index 12\n",
    "            index_012.append(index_0[i_0])\n",
    "            i_0 += 1\n",
    "        else : # Cas d'égalité sur l'indice : si les 2 indexes renvoient le même nombre \n",
    "            if index_12[i_12] % 3 == 1 :\n",
    "                if index_12.index(index_0[i_0] + 1) > index_12.index(index_12[i_12] + 1) : # Cas où index 12 au deuxième terme arrive avant index 0 au deuxième terme\n",
    "                    index_012.append(index_12[i_12])\n",
    "                    i_12 += 1\n",
    "                else : # Cas où index 0 au deuxième terme arrive avant index 12 au deuxième terme\n",
    "                    index_012.append(index_0[i_0])\n",
    "                    i_0 += 1\n",
    "            else :\n",
    "                if int(DC3_table[1][index_0[i_0] + 1]) > int(DC3_table[1][index_12[i_12] + 1]) : # On teste dabord cas où index 12 + 1 arrive avant index 0 + 1\n",
    "                    index_012.append(index_12[i_12])\n",
    "                    i_12 += 1\n",
    "                elif int(DC3_table[1][index_0[i_0] + 2]) < int(DC3_table[1][index_12[i_12] + 2]) : # Cas où index 0 + 1 arrive avant index 12 + 1\n",
    "                    index_012.append(index_0[i_0])\n",
    "                    i_0 += 1\n",
    "                elif index_12.index(index_0[i_0] + 2) > index_12.index(index_12[i_12] + 2) : # Cas où index 12 au deuxième terme arrive avant index 0 au troisième terme\n",
    "                    index_012.append(index_12[i_12])\n",
    "                    i_12 += 1\n",
    "                else : # Cas où index 0 au troisième terme arrive avant index 12 au deuxième terme\n",
    "                    index_012.append(index_0[i_0])\n",
    "                    i_0 += 1\n",
    "    \n",
    "    #print(index_012)\n",
    "    \n",
    "    if int(DC3_table[1][index_012[0]]) == 0 : # On enlève le terme sentinel s'il est présent\n",
    "        index_012 = index_012[1:]\n",
    "        \n",
    "    #print(index_012)\n",
    "    \n",
    "    if len(P_12_base) > 0 : # Mapping sur recursion -1 si existe\n",
    "        new_index_012 = []\n",
    "        for n in range(len(index_012)) :\n",
    "            new_index_012.append([P_12_base[index_012[n]], n])\n",
    "        #print(new_index_012)\n",
    "        index_012 = new_index_012\n",
    "   \n",
    "    \n",
    "\n",
    "    return index_012 # Retourne le suffix array si dernière récursion\n"
   ]
  },
  {
   "cell_type": "code",
   "execution_count": 17,
   "id": "1e52cde6",
   "metadata": {},
   "outputs": [
    {
     "name": "stdout",
     "output_type": "stream",
     "text": [
      "[[ 0  1  2  3  4  5  6  7  8  9 10 11 12 13 14 15 16 17]\n",
      " [65 84 71 67 71 71 67 84 84 65 67 71 84 65 71  0  0  0]] [15, 9, 0, 3, 6, 12] [13, 10, 14, 2, 5, 4, 11, 8, 1, 7]\n",
      "[9, 13, 0, 3, 10, 6, 14, 2, 5, 4, 11, 8, 12, 1, 7]\n"
     ]
    }
   ],
   "source": [
    "DC3_test1 = DC3(\"ATGCGGCTTACGTAG\")\n",
    "\n",
    "print(DC3_test1)"
   ]
  },
  {
   "cell_type": "code",
   "execution_count": 18,
   "id": "b8f1532a",
   "metadata": {},
   "outputs": [
    {
     "name": "stdout",
     "output_type": "stream",
     "text": [
      "[[0 1 2 3 4 5 6 7 8 9]\n",
      " [3 3 4 1 4 5 2 0 0 0]] [3, 6, 0] [7, 1, 2, 4, 5]\n",
      "[[ 0  1  2  3  4  5  6  7  8  9 10 11 12]\n",
      " [97 98 99 97 98 99 97 99 97 98  0  0  0]] [0, 3, 6, 9] [10, 8, 1, 4, 7, 2, 5]\n",
      "[8, 0, 3, 6, 9, 1, 4, 7, 2, 5]\n"
     ]
    }
   ],
   "source": [
    "print(DC3(\"abcabcacab\"))"
   ]
  },
  {
   "cell_type": "code",
   "execution_count": 19,
   "id": "a3d2905d",
   "metadata": {},
   "outputs": [
    {
     "name": "stdout",
     "output_type": "stream",
     "text": [
      "[7, 6, 5, 4, 3, 2, 1, 0]\n"
     ]
    }
   ],
   "source": [
    "print(DC3(\"AAAAAAAA\"))"
   ]
  },
  {
   "cell_type": "code",
   "execution_count": 20,
   "id": "61821cca",
   "metadata": {},
   "outputs": [
    {
     "name": "stdout",
     "output_type": "stream",
     "text": [
      "[[ 0  1  2  3  4  5  6  7  8  9 10 11 12 13 14 15 16 17 18 19 20 21 22 23\n",
      "  24 25 26 27 28 29 30 31 32 33 34 35 36 37 38 39 40 41 42 43 44 45 46 47\n",
      "  48 49 50 51 52 53 54 55 56 57 58 59 60 61 62 63]\n",
      " [ 9  4 11 43 27 40  7 13 36 28 46 15 18 52 30 44 12 47 14 34 21 16  8 20\n",
      "  56 49 25 51 19  3  1 29 53 16 54 24 23 26 31 48 32  4 10 42 15 17  2 38\n",
      "   5 55 41 22 33 35  6 37 12 45 39 25 50  0  0  0]] [30, 48, 54, 6, 0, 42, 18, 21, 33, 45, 12, 51, 36, 9, 3, 15, 57, 39, 60, 27, 24] [61, 46, 29, 41, 1, 22, 2, 56, 16, 7, 44, 11, 28, 23, 20, 35, 59, 26, 37, 4, 31, 14, 38, 40, 52, 19, 53, 8, 55, 47, 58, 5, 50, 43, 10, 17, 25, 13, 32, 34, 49]\n",
      "[[ 0  1  2  3  4  5  6  7  8  9 10 11 12 13 14 15 16 17 18 19 20 21 22 23\n",
      "  24 25 26 27 28 29 30 31 32 33 34 35 36 37 38 39 40 41 42 43 44 45 46 47\n",
      "  48 49 50 51 52 53 54 55 56 57 58 59 60 61 62 63 64 65 66 67 68 69 70 71\n",
      "  72 73 74 75 76 77 78 79 80 81 82 83 84 85 86 87 88 89 90 91 92 93]\n",
      " [16 10 30 41  2 45 16 11 18 33 40 46  5 28 26 17 39 25 46  5 28 26 14 32\n",
      "   8 35 42 23 29 32  9 41  2 45 16 10 31 20 40  7 45 16 10 31 19  1 41  2\n",
      "  43 13 36 27 41  3 12 15 48 18 33 40  7 23 24 48 18 33 40  6 35 42 22  4\n",
      "  34 49 35 42 43 13 36 27 41  2 44 38 47 21 27 41  2 44 37  0  0  0]] [45, 81, 12, 60, 39, 24, 30, 42, 54, 0, 6, 15, 57, 27, 21, 51, 36, 9, 72, 78, 90, 66, 87, 3, 69, 75, 48, 33, 18, 84, 63] [91, 47, 88, 32, 4, 53, 71, 19, 67, 1, 35, 7, 77, 49, 22, 55, 41, 34, 64, 8, 44, 37, 85, 70, 61, 62, 17, 14, 86, 79, 20, 13, 28, 2, 43, 23, 29, 65, 58, 68, 25, 74, 50, 83, 16, 59, 38, 10, 46, 80, 31, 52, 26, 76, 89, 82, 40, 5, 11, 56, 73]\n",
      "[[  0   1   2   3   4   5   6   7   8   9  10  11  12  13  14  15  16  17\n",
      "   18  19  20  21  22  23  24  25  26  27  28  29  30  31  32  33  34  35\n",
      "   36  37  38  39  40  41  42  43  44  45  46  47  48  49  50  51  52  53\n",
      "   54  55  56  57  58  59  60  61  62  63  64  65  66  67  68  69  70  71\n",
      "   72  73  74  75  76  77  78  79  80  81  82  83  84  85  86  87  88  89\n",
      "   90  91  92  93  94  95  96  97  98  99 100 101 102 103 104 105 106 107\n",
      "  108 109 110 111 112 113 114 115 116 117 118 119 120 121 122 123 124 125\n",
      "  126 127 128 129 130 131 132 133 134 135 136 137 138]\n",
      " [ 30   9  29   7   6   2  25  20  30   9  29   7   6   2  25  20  31  18\n",
      "   30   9  29   7   6   2  32  11   7   3  22   9  19  28  32  17  32  11\n",
      "    7   3  22   9  19  28  32  17   4  13  10  13  32  27  14  25  15  32\n",
      "   17  32  11   7   3  22   9  19  28  32  17   4  13   8  24   3  21  29\n",
      "   23   5  13  32  24   3  21  29  23   5  13  32  27  20  24   3  21  29\n",
      "   23   5  30   9  29   7   6   2  25  20  31  18  30   9  29   7   6   2\n",
      "   25  20  31  16  12  26   6  28  32  17   4  13  10  31  18  30   9  29\n",
      "    7   6   2  25  20  31  16  12  26   1   0   0   0]] [135, 69, 87, 27, 81, 96, 12, 114, 57, 36, 3, 126, 105, 21, 60, 39, 93, 9, 120, 66, 45, 132, 111, 117, 54, 33, 30, 99, 15, 78, 72, 90, 51, 6, 129, 108, 84, 0, 123, 102, 18, 24, 63, 42, 75, 48] [136, 5, 128, 97, 107, 13, 23, 77, 58, 37, 65, 44, 118, 73, 91, 4, 127, 106, 22, 26, 95, 11, 67, 29, 1, 124, 103, 19, 46, 56, 35, 25, 133, 112, 119, 74, 47, 82, 50, 52, 64, 43, 122, 101, 17, 61, 40, 85, 7, 130, 109, 70, 88, 59, 38, 28, 80, 68, 76, 86, 98, 14, 134, 113, 49, 41, 62, 115, 31, 2, 125, 104, 94, 10, 20, 71, 79, 89, 92, 8, 131, 110, 121, 100, 16, 55, 34, 116, 53, 32, 83]\n",
      "[[  0   1   2   3   4   5   6   7   8   9  10  11  12  13  14  15  16  17\n",
      "   18  19  20  21  22  23  24  25  26  27  28  29  30  31  32  33  34  35\n",
      "   36  37  38  39  40  41  42  43  44  45  46  47  48  49  50  51  52  53\n",
      "   54  55  56  57  58  59  60  61  62  63  64  65  66  67  68  69  70  71\n",
      "   72  73  74  75  76  77  78  79  80  81  82  83  84  85  86  87  88  89\n",
      "   90  91  92  93  94  95  96  97  98  99 100 101 102 103 104 105 106 107\n",
      "  108 109 110 111 112 113 114 115 116 117 118 119 120 121 122 123 124 125\n",
      "  126 127 128 129 130 131 132 133 134 135 136 137 138 139 140 141 142 143\n",
      "  144 145 146 147 148 149 150 151 152 153 154 155 156 157 158 159 160 161\n",
      "  162 163 164 165 166 167 168 169 170 171 172 173 174 175 176 177 178 179\n",
      "  180 181 182 183 184 185 186 187 188 189 190 191 192 193 194 195 196 197\n",
      "  198 199 200 201 202 203 204 205 206]\n",
      " [ 84  84  84  67  67  65  65  84  84  65  65  84  84  65  84  67  65  65\n",
      "   71  84  67  84  71  84  84  84  84  67  67  65  65  84  84  65  65  84\n",
      "   84  65  84  67  65  65  71  84  67  84  71  84  84  84  84  71  71  71\n",
      "   84  84  84  67  67  65  65  84  84  65  65  84  84  65  84  67  65  65\n",
      "   71  84  84  84  67  67  65  65  84  84  65  65  84  84  65  84  67  65\n",
      "   65  71  84  67  84  71  84  84  84  84  71  71  71  84  84  84  67  67\n",
      "   65  65  84  84  65  65  84  84  65  84  67  65  65  71  84  67  84  71\n",
      "   84  84  84  84  71  71  71  65  67  84  67  84  71  67  65  84  67  84\n",
      "   71  84  84  84  84  71  71  71  65  67  84  67  84  71  67  65  84  84\n",
      "   84  71  71  71  84  84  84  67  67  65  65  84  84  65  65  84  84  65\n",
      "   84  67  65  65  71  84  67  84  71  84  84  84  84  71  71  71  65  67\n",
      "   84  67  84  71  67  65   0   0   0]] [204, 6, 30, 60, 171, 108, 78, 9, 159, 33, 63, 183, 120, 90, 15, 123, 186, 93, 39, 69, 3, 27, 57, 153, 195, 132, 165, 102, 72, 144, 201, 138, 150, 51, 42, 18, 174, 111, 81, 0, 24, 12, 54, 36, 48, 66, 189, 126, 96, 180, 117, 87, 168, 105, 75, 198, 135, 141, 156, 192, 129, 162, 99, 21, 45, 177, 114, 84, 147] [203, 16, 182, 89, 119, 40, 70, 5, 29, 59, 175, 112, 82, 196, 133, 152, 17, 41, 71, 13, 179, 86, 116, 37, 67, 140, 172, 109, 79, 10, 176, 83, 113, 34, 64, 202, 181, 118, 88, 4, 170, 107, 77, 28, 58, 139, 158, 169, 106, 76, 197, 134, 199, 136, 155, 20, 142, 44, 151, 157, 194, 131, 193, 130, 149, 163, 100, 164, 101, 52, 184, 121, 91, 53, 22, 188, 125, 95, 46, 8, 32, 62, 178, 115, 85, 14, 38, 68, 2, 26, 56, 92, 43, 154, 19, 185, 122, 200, 137, 148, 50, 124, 187, 143, 94, 7, 173, 110, 80, 31, 61, 11, 35, 65, 1, 167, 104, 74, 25, 55, 191, 128, 161, 98, 49, 166, 103, 146, 73, 190, 127, 160, 97, 23, 145, 47]\n",
      "[203, 16, 182, 89, 119, 40, 70, 5, 29, 59, 175, 112, 82, 196, 133, 152, 17, 41, 71, 13, 179, 86, 116, 37, 67, 140, 6, 172, 109, 79, 30, 60, 171, 108, 78, 9, 10, 176, 83, 113, 34, 64, 159, 33, 63, 183, 120, 90, 202, 15, 181, 118, 88, 4, 170, 107, 77, 28, 58, 139, 158, 169, 106, 76, 197, 134, 199, 136, 155, 20, 123, 186, 142, 93, 39, 69, 3, 27, 57, 153, 44, 195, 132, 151, 157, 194, 131, 193, 130, 149, 163, 100, 164, 101, 52, 184, 121, 91, 165, 102, 72, 53, 22, 144, 201, 138, 150, 51, 42, 18, 188, 125, 95, 46, 8, 174, 111, 81, 32, 62, 178, 115, 85, 14, 38, 68, 2, 26, 56, 92, 43, 154, 19, 185, 122, 200, 137, 148, 50, 124, 187, 143, 94, 7, 173, 110, 80, 31, 61, 11, 35, 65, 1, 167, 104, 74, 25, 55, 191, 128, 161, 98, 49, 0, 166, 103, 24, 12, 54, 36, 146, 73, 190, 127, 160, 97, 48, 66, 23, 145, 189, 126, 96, 180, 117, 87, 168, 105, 75, 198, 135, 141, 156, 192, 129, 162, 99, 47, 21, 45, 177, 114, 84, 147]\n"
     ]
    }
   ],
   "source": [
    "print(DC3(\"TTTCCAATTAATTATCAAGTCTGTTTTCCAATTAATTATCAAGTCTGTTTTGGGTTTCCAATTAATTATCAAGTTTCCAATTAATTATCAAGTCTGTTTTGGGTTTCCAATTAATTATCAAGTCTGTTTTGGGACTCTGCATCTGTTTTGGGACTCTGCATTTGGGTTTCCAATTAATTATCAAGTCTGTTTTGGGACTCTGCA\"))"
   ]
  },
  {
   "cell_type": "code",
   "execution_count": null,
   "id": "c46ad783",
   "metadata": {},
   "outputs": [],
   "source": []
  }
 ],
 "metadata": {
  "kernelspec": {
   "display_name": "Python 3 (ipykernel)",
   "language": "python",
   "name": "python3"
  },
  "language_info": {
   "codemirror_mode": {
    "name": "ipython",
    "version": 3
   },
   "file_extension": ".py",
   "mimetype": "text/x-python",
   "name": "python",
   "nbconvert_exporter": "python",
   "pygments_lexer": "ipython3",
   "version": "3.9.13"
  }
 },
 "nbformat": 4,
 "nbformat_minor": 5
}
