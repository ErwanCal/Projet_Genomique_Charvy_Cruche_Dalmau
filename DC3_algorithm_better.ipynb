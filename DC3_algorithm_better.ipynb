{
 "cells": [
  {
   "cell_type": "markdown",
   "id": "8b9a8e07",
   "metadata": {},
   "source": [
    "### DC3 Algorithm"
   ]
  },
  {
   "cell_type": "code",
   "execution_count": 2,
   "id": "b9752be9",
   "metadata": {},
   "outputs": [
    {
     "name": "stdout",
     "output_type": "stream",
     "text": [
      "[([0, 0, 0], 5), ([97, 98, 0], 7), ([98, 99, 97], 3), ([98, 99, 97], 4), ([99, 97, 98], 2), ([99, 97, 98], 1), ([99, 97, 99], 6)]\n",
      "[([0, 0], 4), ([97, 98], 7), ([98, 99], 1), ([98, 99], 2), ([99, 97], 3), ([99, 97], 5), ([99, 97], 6)]\n"
     ]
    }
   ],
   "source": [
    "import radix_DC3_tuples as rd\n",
    "import numpy as np"
   ]
  },
  {
   "cell_type": "code",
   "execution_count": 3,
   "id": "23706726",
   "metadata": {},
   "outputs": [
    {
     "name": "stdout",
     "output_type": "stream",
     "text": [
      "[([0, 0, 0], 5), ([97, 98, 0], 7), ([98, 99, 97], 3), ([98, 99, 97], 4), ([99, 97, 98], 2), ([99, 97, 98], 1), ([99, 97, 99], 6)]\n",
      "[([0, 0], 4), ([97, 98], 7), ([98, 99], 1), ([98, 99], 2), ([99, 97], 3), ([99, 97], 5), ([99, 97], 6)]\n"
     ]
    }
   ],
   "source": [
    "#Import test\n",
    "\n",
    "lis_test=[([98,99,97],3),([98,99,97],4),([99,97,98],2),([0,0,0],5),([99,97,98],1),([99,97,99],6),([97,98,0],7)]\n",
    "rd.radix_sort(lis_test,3)\n",
    "print(lis_test)\n",
    "lis_test=[([98,99],1),([98,99],2),([99,97],3),([0,0],4),([99,97],5),([99,97],6),([97,98],7)]\n",
    "rd.radix_sort(lis_test,2)\n",
    "print(lis_test)"
   ]
  },
  {
   "cell_type": "code",
   "execution_count": 103,
   "id": "13a1c421",
   "metadata": {},
   "outputs": [],
   "source": [
    "def DC3(S, P_12_base = []) :\n",
    "    \"\"\"\n",
    "    Create the suffix array from DC3 algorithm, could be recursive if needed\n",
    "    \n",
    "    Args:\n",
    "        S (str): string\n",
    "        P_12_base : store P1+2 from recursion to map correctly recursivity\n",
    "    \n",
    "    Return:\n",
    "        index_012 : suffix array of S\n",
    "        order_12 : order of the next recursion to map correctly recursivity\n",
    "    \"\"\"\n",
    "    \n",
    "    DC3_table = np.zeros((3,len(S) + 3), dtype=int) # Les caractères sentinelles sont déja là !\n",
    "    \"\"\"\n",
    "    Table de DC3 qui contient en chaque ligne : \n",
    "    Ligne 0 : indice du caractère\n",
    "    Ligne 1 : conversion du caractère en nombre\n",
    "    Ligne 2 : Ordre de l'indice du caractère\n",
    "    \n",
    "    \"\"\"\n",
    "    for i in range(len(S) + 3) :\n",
    "            DC3_table[0][i] =  i # On remplace le caractère par son code Ascii\n",
    "    \n",
    "    #print(DC3_table)\n",
    "    \n",
    "    \n",
    "    # String conversion : !!!!! à n'executer que lors de la première récursion !!!!!\n",
    "    if type(S) == str :\n",
    "        S_l = [*S] # On sépare caractère par caractère : \"ATGC\" devient [\"A\",\"T\",\"G\",\"C\"]\n",
    "        for i in range(len(S_l)) :\n",
    "            DC3_table[1][i] =  ord(S_l[i]) # On rempli le caractère par son code Ascii dans la table\n",
    "    else :\n",
    "         for i in range(len(S)) :\n",
    "            DC3_table[1][i] =  S[i] # Cas où l'on rentre dans la boucle une deuxième fois ou plus, pas de conversion\n",
    "    \n",
    "    \"\"\"\n",
    "    for i in range(len(S), len(S) + 3, 1) :\n",
    "        conversion_l.append(0) # Ajout des 3 caractères sentinelles # A garder si pas tables de 0\n",
    "    \"\"\"\n",
    "    \n",
    "    # On crée P0, P1, P2 et P1+P2 :\n",
    "    \n",
    "    P0 = [*range(0,len(S)+1,3)] \n",
    "    P1 = [*range(1,len(S)+1,3)]\n",
    "    P2 = [*range(2,len(S)+1,3)]\n",
    "    \n",
    "    P_12 = P1 + P2\n",
    "    #print(P0, P1, P2)\n",
    "    #print(P_12)\n",
    "    \n",
    "    #Obtention des triplets à partir de P1+P2 :\n",
    "    \n",
    "    R_12 = []\n",
    "    for val in P_12 :\n",
    "        R_12.append([list(DC3_table[1][val:val+3]), val])\n",
    "\n",
    "    #print(R_12)\n",
    "    \n",
    "    rd.radix_sort(R_12,3) # On trie les triplets\n",
    "    \n",
    "    #print(R_12)\n",
    "    \n",
    "    index_12 = [] # Liste des indexes de R12 trié\n",
    "    order_count = 1 # Compteur pour remplir l'ordre\n",
    "    recur = False # Etat de la récursion tourné True si on a des égalités d'ordre\n",
    "    for j in range(len(R_12)) : # On parcours tous les triplets triés\n",
    "        index_12.append(R_12[j][1]) # ... pour lui attribuer son index depuis P_12\n",
    "        DC3_table[2][R_12[j][1]] = order_count # Et on ajoute l'ordre dans la table\n",
    "        if j < len(R_12)-1 :\n",
    "            if R_12[j][0] != R_12[j+1][0] : # On teste l'égalité des triplets pour mettre l'ordre\n",
    "                order_count += 1\n",
    "            else :\n",
    "                recur = True # On a égalité, donc on doit relancer l'algorithme à la fin des for\n",
    "        else :\n",
    "            order_count += 1\n",
    "    \n",
    "    #print(DC3_table, index_12)\n",
    "    \n",
    "    if recur == True :\n",
    "        new_S = [] # On crée T' la séquence des orders suivant l'ordre de P12\n",
    "        for l in P_12 :\n",
    "            new_S.append(DC3_table[2][l])\n",
    "        #print(new_S)\n",
    "        index_012 = DC3(new_S, P_12) # On doit récupérer ces deux paramètres sinon ça marche pas\n",
    "        index_12 = []\n",
    "        for ind,val in index_012 :\n",
    "            DC3_table[2][ind] = val\n",
    "            index_12.append(ind)\n",
    "            \n",
    "        #print(DC3_table)\n",
    "    \n",
    "    R_0 = [] # On crée la dernière partie à trier\n",
    "    for val in P0 :\n",
    "        R_0.append([[int(DC3_table[1][val]), DC3_table[2][val + 1]], val]) # On crée R0 avec son indice\n",
    "        \n",
    "    #print(R_0)\n",
    "    \n",
    "    rd.radix_sort(R_0,2)\n",
    "    \n",
    "    #print(R_0)\n",
    "    \n",
    "    index_0 = [] # Liste des indexes de R0 trié\n",
    "    for k in range(len(R_0)) : # On parcours tous les doublets triés\n",
    "       index_0.append(R_0[k][1]) # On récupère l'indice\n",
    "    \n",
    "    #print(index_0, index_12)\n",
    "    \n",
    "    index_012 = [] # On crée l'index final en ordonant 0 et 1,2\n",
    "    i_0 = 0\n",
    "    i_12 = 0\n",
    "    while (i_0 < len(index_0) or i_12 < len(index_12)) : # On prends tout les éléments : on vide index 0 et 12\n",
    "        if i_0 == len(index_0) : # Cas où index 0 est vide, on rempli avec index 12\n",
    "            index_012.append(index_12[i_12])\n",
    "            i_12 += 1\n",
    "        elif i_12 == len(index_12) : # Cas où index 12 est vide, on rempli avec index 0\n",
    "            index_012.append(index_0[i_0])\n",
    "            i_0 += 1\n",
    "        elif int(DC3_table[1][index_0[i_0]]) > int(DC3_table[1][index_12[i_12]]) : # Cas où index 12 arrive avant index 0\n",
    "            index_012.append(index_12[i_12])\n",
    "            i_12 += 1\n",
    "        elif int(DC3_table[1][index_0[i_0]]) < int(DC3_table[1][index_12[i_12]]) : # Cas où index 0 arrive avant index 12\n",
    "            index_012.append(index_0[i_0])\n",
    "            i_0 += 1\n",
    "        else : # Cas d'égalité sur l'indice : si les 2 indexes renvoient le même nombre \n",
    "            if index_12[i_12] % 3 == 1 :\n",
    "                if index_12.index(index_0[i_0] + 1) > index_12.index(index_12[i_12] + 1) : # Cas où index 12 au deuxième terme arrive avant index 0 au deuxième terme\n",
    "                    index_012.append(index_12[i_12])\n",
    "                    i_12 += 1\n",
    "                else : # Cas où index 0 au deuxième terme arrive avant index 12 au deuxième terme\n",
    "                    index_012.append(index_0[i_0])\n",
    "                    i_0 += 1\n",
    "            else :\n",
    "                if index_12.index(index_0[i_0] + 2) > index_12.index(index_12[i_12] + 2) : # Cas où index 12 au deuxième terme arrive avant index 0 au troisième terme\n",
    "                    index_012.append(index_12[i_12])\n",
    "                    i_12 += 1\n",
    "                else : # Cas où index 0 au troisième terme arrive avant index 12 au deuxième terme\n",
    "                    index_012.append(index_0[i_0])\n",
    "                    i_0 += 1\n",
    "    \n",
    "    #print(index_012)\n",
    "    \n",
    "    if int(DC3_table[1][index_012[0]]) == 0 : # On enlève le terme sentinel s'il est présent\n",
    "        index_012 = index_012[1:]\n",
    "        \n",
    "    #print(index_012)\n",
    "    \n",
    "    if len(P_12_base) > 0 : # Mapping sur recursion -1 si existe\n",
    "        new_index_012 = []\n",
    "        for n in range(len(index_012)) :\n",
    "            new_index_012.append([P_12_base[index_012[n]], n])\n",
    "        #print(new_index_012)\n",
    "        index_012 = new_index_012\n",
    "   \n",
    "    \n",
    "\n",
    "    return index_012 # Retourne le suffix array si dernière récursion\n"
   ]
  },
  {
   "cell_type": "code",
   "execution_count": 104,
   "id": "1e52cde6",
   "metadata": {},
   "outputs": [
    {
     "name": "stdout",
     "output_type": "stream",
     "text": [
      "[9, 13, 0, 3, 10, 6, 14, 2, 5, 4, 11, 8, 12, 1, 7]\n"
     ]
    }
   ],
   "source": [
    "DC3_test1 = DC3(\"ATGCGGCTTACGTAG\")\n",
    "\n",
    "print(DC3_test1)"
   ]
  },
  {
   "cell_type": "code",
   "execution_count": 105,
   "id": "b8f1532a",
   "metadata": {},
   "outputs": [
    {
     "name": "stdout",
     "output_type": "stream",
     "text": [
      "[8, 0, 3, 6, 9, 1, 4, 7, 2, 5]\n"
     ]
    }
   ],
   "source": [
    "print(DC3(\"abcabcacab\"))"
   ]
  },
  {
   "cell_type": "code",
   "execution_count": 107,
   "id": "a3d2905d",
   "metadata": {},
   "outputs": [
    {
     "name": "stdout",
     "output_type": "stream",
     "text": [
      "[7, 6, 5, 4, 3, 2, 1, 0]\n"
     ]
    }
   ],
   "source": [
    "print(DC3(\"AAAAAAAA\"))"
   ]
  },
  {
   "cell_type": "code",
   "execution_count": null,
   "id": "ec4dbfe7",
   "metadata": {},
   "outputs": [],
   "source": []
  },
  {
   "cell_type": "code",
   "execution_count": null,
   "id": "7f1d560f",
   "metadata": {},
   "outputs": [],
   "source": []
  }
 ],
 "metadata": {
  "kernelspec": {
   "display_name": "Python 3 (ipykernel)",
   "language": "python",
   "name": "python3"
  },
  "language_info": {
   "codemirror_mode": {
    "name": "ipython",
    "version": 3
   },
   "file_extension": ".py",
   "mimetype": "text/x-python",
   "name": "python",
   "nbconvert_exporter": "python",
   "pygments_lexer": "ipython3",
   "version": "3.9.13"
  }
 },
 "nbformat": 4,
 "nbformat_minor": 5
}
