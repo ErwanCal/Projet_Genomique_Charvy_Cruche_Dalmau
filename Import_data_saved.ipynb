{
 "cells": [
  {
   "cell_type": "markdown",
   "id": "fb97b8a4",
   "metadata": {},
   "source": [
    "### Import de données sauvegardées"
   ]
  },
  {
   "cell_type": "markdown",
   "id": "c921acb3",
   "metadata": {},
   "source": [
    "#### Fonction d'import :"
   ]
  },
  {
   "cell_type": "code",
   "execution_count": 10,
   "id": "cc8cd1e7",
   "metadata": {},
   "outputs": [],
   "source": [
    "def import_file(filename, prog) :\n",
    "    \n",
    "    if prog == \"DC3\" :\n",
    "            filename = \"DC3_save/\" + filename\n",
    "    elif prog == \"Map\" :\n",
    "            filename = \"Mapping_save/\" + filename\n",
    "    \n",
    "    with open(filename, 'r') as f:\n",
    "        \n",
    "        # Partie DC3:\n",
    "        if prog == \"DC3\" :\n",
    "            text = f.readline()\n",
    "            data = text.split(\" \")[:-1]\n",
    "            print(data)\n",
    "            for i in range(len(data)) :\n",
    "                data[i] = int(data[i])\n",
    "            return(data)\n",
    "        \n",
    "        elif prog == \"Map\" :\n",
    "            n = int(f.readline())\n",
    "            data = []\n",
    "            for i in range(n):\n",
    "                temp = f.readline()\n",
    "                temp = temp.split(\"&\")\n",
    "                temp_lis = temp[3][1:-2].split(\",\") # Car il reste les []\n",
    "                lis = []\n",
    "                for j in range(len(temp_lis)) :\n",
    "                    lis.append(int(temp_lis[j]))\n",
    "                data.append([temp[0], temp[1], int(temp[2]), lis])\n",
    "            return data\n",
    "        \n"
   ]
  },
  {
   "cell_type": "markdown",
   "id": "90bbe6fd",
   "metadata": {},
   "source": [
    "#### Import de DC3 disponibles :"
   ]
  },
  {
   "cell_type": "code",
   "execution_count": 11,
   "id": "ab9ccb53",
   "metadata": {},
   "outputs": [
    {
     "name": "stderr",
     "output_type": "stream",
     "text": [
      "IOPub data rate exceeded.\n",
      "The notebook server will temporarily stop sending output\n",
      "to the client in order to avoid crashing it.\n",
      "To change this limit, set the config variable\n",
      "`--NotebookApp.iopub_data_rate_limit`.\n",
      "\n",
      "Current values:\n",
      "NotebookApp.iopub_data_rate_limit=1000000.0 (bytes/sec)\n",
      "NotebookApp.rate_limit_window=3.0 (secs)\n",
      "\n"
     ]
    }
   ],
   "source": [
    "DC3_chrom1 = import_file(\"DC3_chrom1.txt\", \"DC3\")"
   ]
  },
  {
   "cell_type": "markdown",
   "id": "b7d145d9",
   "metadata": {},
   "source": [
    "#### Import de Mapping disponible :"
   ]
  },
  {
   "cell_type": "code",
   "execution_count": 12,
   "id": "a590e7ea",
   "metadata": {},
   "outputs": [],
   "source": [
    "map_2020_first = import_file(\"partial_map_k1.txt\", \"Map\")\n",
    "\n"
   ]
  },
  {
   "cell_type": "code",
   "execution_count": null,
   "id": "f5602a38",
   "metadata": {},
   "outputs": [],
   "source": []
  }
 ],
 "metadata": {
  "kernelspec": {
   "display_name": "Python 3 (ipykernel)",
   "language": "python",
   "name": "python3"
  },
  "language_info": {
   "codemirror_mode": {
    "name": "ipython",
    "version": 3
   },
   "file_extension": ".py",
   "mimetype": "text/x-python",
   "name": "python",
   "nbconvert_exporter": "python",
   "pygments_lexer": "ipython3",
   "version": "3.9.13"
  }
 },
 "nbformat": 4,
 "nbformat_minor": 5
}
