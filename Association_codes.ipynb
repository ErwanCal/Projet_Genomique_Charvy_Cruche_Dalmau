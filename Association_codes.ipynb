{
 "cells": [
  {
   "cell_type": "code",
   "execution_count": 8,
   "id": "9b8dc2e2",
   "metadata": {},
   "outputs": [],
   "source": [
    "!"
   ]
  },
  {
   "cell_type": "code",
   "execution_count": 1,
   "id": "a8eebc1e",
   "metadata": {},
   "outputs": [],
   "source": [
    "from Bio import SeqIO # Permet l'import de la fonction parse\n",
    "from Bio.SeqIO.QualityIO import FastqGeneralIterator # Permet un parse plus rapide lorsque beaucoup de séquences (fastaq uniquement sinon voir site biopython pour fasta)\n",
    "import functools as ft # Permet de regrouper des listes pour radix sort\n",
    "import numpy as np\n",
    "\n",
    "from tqdm import tqdm # Permet d'estimer le temps d'éxécution sur un boucle\n",
    "from datetime import datetime # Permet de comparer la vitesse de 2 programmes "
   ]
  },
  {
   "cell_type": "markdown",
   "id": "8e72ab84",
   "metadata": {},
   "source": [
    "## Début du code "
   ]
  },
  {
   "cell_type": "code",
   "execution_count": 6,
   "id": "7ffe4717",
   "metadata": {},
   "outputs": [
    {
     "name": "stderr",
     "output_type": "stream",
     "text": [
      "Import sequence: 1500000it [00:32, 45618.46it/s]"
     ]
    },
    {
     "name": "stdout",
     "output_type": "stream",
     "text": [
      "Temps total = 0:00:33.369674\n",
      "[['TTTCCTTTTT', 'NC_004325.2-100000', 1], ['AAGCGTTTTA', 'NC_004325.2-100000', 2], ['TTTTTTAATA', 'NC_004325.2-100000', 3], ['AAAAAAATAT', 'NC_004325.2-100000', 4], ['AGTATTATAT', 'NC_004325.2-100000', 5], ['AGTAACGGGT', 'NC_004325.2-100000', 6]]\n"
     ]
    },
    {
     "name": "stderr",
     "output_type": "stream",
     "text": [
      "\n"
     ]
    }
   ],
   "source": [
    "# Bloc de test\n",
    "\n",
    "now = datetime.now()\n",
    "\n",
    "list_genom = genome_import()\n",
    "\n",
    "list_reads= reads_import_cuts(10)\n",
    "\n",
    "#list_reads2= reads_import()\n",
    "\"\"\"\n",
    "for el in tqdm(list_reads[0:6], desc = \"Mapping\") :\n",
    "    position = []\n",
    "    for k in tqdm(list_genom, desc = \"Chromosome\") :\n",
    "        pos_list = string_location(k[0],el[0])\n",
    "        poistion.append([k[1], pos_list])\n",
    "    el.append(position)\n",
    "\"\"\"\n",
    "time_imp = datetime.now() - now\n",
    "print(\"Temps total =\", time_imp)\n",
    "print(list_reads[0:6])"
   ]
  },
  {
   "cell_type": "code",
   "execution_count": 7,
   "id": "9f4d1217",
   "metadata": {},
   "outputs": [
    {
     "name": "stdout",
     "output_type": "stream",
     "text": [
      "Temps tri liste R = 0:00:03.062509\n",
      "Temps tri liste R = 0:00:02.343750\n",
      "Temps tri liste R = 0:00:04.005814\n",
      "Temps tri liste R = 0:00:03.303882\n",
      "Temps tri liste R = 0:00:02.005184\n",
      "Temps tri liste R = 0:00:01.078160\n",
      "Temps tri liste R = 0:00:00.635743\n",
      "Temps recur = 0:00:24.715089\n",
      "Temps index R0 : 0:00:00\n",
      "Temps index_012 : 0:00:00.130007\n",
      "Temps recur = 0:00:25.095076\n",
      "Temps index R0 : 0:00:00.018013\n",
      "Temps index_012 : 0:00:00.174211\n",
      "Temps recur = 0:00:25.705987\n",
      "Temps index R0 : 0:00:00.015615\n",
      "Temps index_012 : 0:00:00.378421\n",
      "Temps recur = 0:00:26.837052\n",
      "Temps index R0 : 0:00:00.031246\n",
      "Temps index_012 : 0:00:14.113898\n",
      "Temps recur = 0:00:42.200665\n",
      "Temps index R0 : 0:00:00.046902\n",
      "Temps index_012 : 0:14:32.976177\n",
      "Temps recur = 0:15:17.158611\n",
      "Temps index R0 : 0:00:00.062496\n",
      "Temps index_012 : 1:43:44.773525\n",
      "Temps recur = 1:59:04.978312\n",
      "Temps index R0 : 0:00:00.093748\n",
      "Temps index_012 : 4:14:43.723060\n",
      "Temps total = 6:13:52.464199\n"
     ]
    }
   ],
   "source": [
    "now_out = datetime.now()\n",
    "DC3_chrom2 = DC3(list_genom[0][0] + \"$\")\n",
    "time_imp = datetime.now() - now_out\n",
    "print(\"Temps total =\", time_imp)"
   ]
  },
  {
   "cell_type": "code",
   "execution_count": 12,
   "id": "9d99cd42",
   "metadata": {},
   "outputs": [
    {
     "name": "stderr",
     "output_type": "stream",
     "text": [
      "  0%|                                                                     | 2026/15000000 [25:12<3109:28:07,  1.34it/s]\n"
     ]
    },
    {
     "ename": "KeyboardInterrupt",
     "evalue": "",
     "output_type": "error",
     "traceback": [
      "\u001b[1;31m---------------------------------------------------------------------------\u001b[0m",
      "\u001b[1;31mKeyboardInterrupt\u001b[0m                         Traceback (most recent call last)",
      "\u001b[1;32m~\\AppData\\Local\\Temp\\ipykernel_6300\\3921320898.py\u001b[0m in \u001b[0;36m<module>\u001b[1;34m\u001b[0m\n\u001b[0;32m      1\u001b[0m \u001b[0mnow_out\u001b[0m \u001b[1;33m=\u001b[0m \u001b[0mdatetime\u001b[0m\u001b[1;33m.\u001b[0m\u001b[0mnow\u001b[0m\u001b[1;33m(\u001b[0m\u001b[1;33m)\u001b[0m\u001b[1;33m\u001b[0m\u001b[1;33m\u001b[0m\u001b[0m\n\u001b[0;32m      2\u001b[0m \u001b[1;32mfor\u001b[0m \u001b[0mi\u001b[0m \u001b[1;32min\u001b[0m \u001b[0mtqdm\u001b[0m\u001b[1;33m(\u001b[0m\u001b[0mrange\u001b[0m\u001b[1;33m(\u001b[0m\u001b[0mlen\u001b[0m\u001b[1;33m(\u001b[0m\u001b[0mlist_reads\u001b[0m\u001b[1;33m)\u001b[0m\u001b[1;33m)\u001b[0m\u001b[1;33m)\u001b[0m \u001b[1;33m:\u001b[0m\u001b[1;33m\u001b[0m\u001b[1;33m\u001b[0m\u001b[0m\n\u001b[1;32m----> 3\u001b[1;33m     \u001b[0mlist_reads\u001b[0m\u001b[1;33m[\u001b[0m\u001b[0mi\u001b[0m\u001b[1;33m]\u001b[0m\u001b[1;33m.\u001b[0m\u001b[0mappend\u001b[0m\u001b[1;33m(\u001b[0m\u001b[0mstring_location\u001b[0m\u001b[1;33m(\u001b[0m\u001b[0mlist_genom\u001b[0m\u001b[1;33m[\u001b[0m\u001b[1;36m0\u001b[0m\u001b[1;33m]\u001b[0m\u001b[1;33m[\u001b[0m\u001b[1;36m0\u001b[0m\u001b[1;33m]\u001b[0m\u001b[1;33m,\u001b[0m\u001b[0mDC3_save\u001b[0m\u001b[1;33m,\u001b[0m\u001b[0mlist_reads\u001b[0m\u001b[1;33m[\u001b[0m\u001b[0mi\u001b[0m\u001b[1;33m]\u001b[0m\u001b[1;33m[\u001b[0m\u001b[1;36m0\u001b[0m\u001b[1;33m]\u001b[0m\u001b[1;33m)\u001b[0m\u001b[1;33m)\u001b[0m\u001b[1;33m\u001b[0m\u001b[1;33m\u001b[0m\u001b[0m\n\u001b[0m\u001b[0;32m      4\u001b[0m \u001b[0mtime_imp\u001b[0m \u001b[1;33m=\u001b[0m \u001b[0mdatetime\u001b[0m\u001b[1;33m.\u001b[0m\u001b[0mnow\u001b[0m\u001b[1;33m(\u001b[0m\u001b[1;33m)\u001b[0m \u001b[1;33m-\u001b[0m \u001b[0mnow_out\u001b[0m\u001b[1;33m\u001b[0m\u001b[1;33m\u001b[0m\u001b[0m\n\u001b[0;32m      5\u001b[0m \u001b[0mprint\u001b[0m\u001b[1;33m(\u001b[0m\u001b[1;34m\"Temps total =\"\u001b[0m\u001b[1;33m,\u001b[0m \u001b[0mtime_imp\u001b[0m\u001b[1;33m)\u001b[0m\u001b[1;33m\u001b[0m\u001b[1;33m\u001b[0m\u001b[0m\n",
      "\u001b[1;32m~\\AppData\\Local\\Temp\\ipykernel_6300\\338009534.py\u001b[0m in \u001b[0;36mstring_location\u001b[1;34m(text, DC3_T, string)\u001b[0m\n\u001b[0;32m     10\u001b[0m         \u001b[0;31m?\u001b[0m\u001b[0;31m?\u001b[0m\u001b[0;31m?\u001b[0m\u001b[1;33m\u001b[0m\u001b[1;33m\u001b[0m\u001b[0m\n\u001b[0;32m     11\u001b[0m     '''\n\u001b[1;32m---> 12\u001b[1;33m     \u001b[0mresult\u001b[0m \u001b[1;33m=\u001b[0m \u001b[0mpattern_matching_BWT\u001b[0m\u001b[1;33m(\u001b[0m\u001b[0mtext\u001b[0m\u001b[1;33m,\u001b[0m\u001b[0mDC3_T\u001b[0m\u001b[1;33m,\u001b[0m\u001b[0mstring\u001b[0m\u001b[1;33m)\u001b[0m\u001b[1;33m\u001b[0m\u001b[1;33m\u001b[0m\u001b[0m\n\u001b[0m\u001b[0;32m     13\u001b[0m     \u001b[0msft\u001b[0m \u001b[1;33m=\u001b[0m \u001b[0mDC3_T\u001b[0m\u001b[1;33m\u001b[0m\u001b[1;33m\u001b[0m\u001b[0m\n\u001b[0;32m     14\u001b[0m     \u001b[0mlist_occur\u001b[0m \u001b[1;33m=\u001b[0m \u001b[1;33m[\u001b[0m\u001b[1;33m]\u001b[0m\u001b[1;33m\u001b[0m\u001b[1;33m\u001b[0m\u001b[0m\n",
      "\u001b[1;32m~\\AppData\\Local\\Temp\\ipykernel_6300\\80502506.py\u001b[0m in \u001b[0;36mpattern_matching_BWT\u001b[1;34m(S, DC3_T, pattern)\u001b[0m\n\u001b[0;32m     12\u001b[0m     \u001b[0mS\u001b[0m \u001b[1;33m=\u001b[0m \u001b[0mS\u001b[0m \u001b[1;31m##+ \"$\"\u001b[0m\u001b[1;33m\u001b[0m\u001b[1;33m\u001b[0m\u001b[0m\n\u001b[0;32m     13\u001b[0m     \u001b[0mpattern_in_S\u001b[0m \u001b[1;33m=\u001b[0m \u001b[1;32mFalse\u001b[0m\u001b[1;33m\u001b[0m\u001b[1;33m\u001b[0m\u001b[0m\n\u001b[1;32m---> 14\u001b[1;33m     \u001b[0mL\u001b[0m \u001b[1;33m=\u001b[0m \u001b[0mlist\u001b[0m\u001b[1;33m(\u001b[0m\u001b[0mBWT\u001b[0m\u001b[1;33m(\u001b[0m\u001b[0mS\u001b[0m\u001b[1;33m,\u001b[0m \u001b[0mDC3_T\u001b[0m\u001b[1;33m)\u001b[0m\u001b[1;33m)\u001b[0m\u001b[1;33m\u001b[0m\u001b[1;33m\u001b[0m\u001b[0m\n\u001b[0m\u001b[0;32m     15\u001b[0m     \u001b[0mLS\u001b[0m \u001b[1;33m=\u001b[0m \u001b[0mL\u001b[0m \u001b[1;33m+\u001b[0m \u001b[1;33m[\u001b[0m\u001b[1;33m]\u001b[0m\u001b[1;33m\u001b[0m\u001b[1;33m\u001b[0m\u001b[0m\n\u001b[0;32m     16\u001b[0m     \u001b[0mLS\u001b[0m\u001b[1;33m.\u001b[0m\u001b[0msort\u001b[0m\u001b[1;33m(\u001b[0m\u001b[1;33m)\u001b[0m\u001b[1;33m\u001b[0m\u001b[1;33m\u001b[0m\u001b[0m\n",
      "\u001b[1;32m~\\AppData\\Local\\Temp\\ipykernel_6300\\632204629.py\u001b[0m in \u001b[0;36mBWT\u001b[1;34m(T, DC3_T)\u001b[0m\n\u001b[0;32m     15\u001b[0m     \u001b[1;32mfor\u001b[0m \u001b[0mi\u001b[0m \u001b[1;32min\u001b[0m \u001b[0mrange\u001b[0m\u001b[1;33m(\u001b[0m\u001b[0mlen\u001b[0m\u001b[1;33m(\u001b[0m\u001b[0msf_tab\u001b[0m\u001b[1;33m)\u001b[0m\u001b[1;33m)\u001b[0m\u001b[1;33m:\u001b[0m\u001b[1;33m\u001b[0m\u001b[1;33m\u001b[0m\u001b[0m\n\u001b[0;32m     16\u001b[0m         \u001b[0mcrt\u001b[0m \u001b[1;33m=\u001b[0m \u001b[0msf_tab\u001b[0m\u001b[1;33m[\u001b[0m\u001b[0mi\u001b[0m\u001b[1;33m]\u001b[0m\u001b[1;33m\u001b[0m\u001b[1;33m\u001b[0m\u001b[0m\n\u001b[1;32m---> 17\u001b[1;33m         \u001b[0mbwt\u001b[0m \u001b[1;33m+=\u001b[0m \u001b[0mtext\u001b[0m\u001b[1;33m[\u001b[0m\u001b[0mcrt\u001b[0m\u001b[1;33m-\u001b[0m\u001b[1;36m1\u001b[0m\u001b[1;33m]\u001b[0m\u001b[1;33m\u001b[0m\u001b[1;33m\u001b[0m\u001b[0m\n\u001b[0m\u001b[0;32m     18\u001b[0m     \u001b[1;32mreturn\u001b[0m\u001b[1;33m(\u001b[0m\u001b[0mbwt\u001b[0m\u001b[1;33m)\u001b[0m\u001b[1;33m\u001b[0m\u001b[1;33m\u001b[0m\u001b[0m\n",
      "\u001b[1;31mKeyboardInterrupt\u001b[0m: "
     ]
    }
   ],
   "source": [
    "now_out = datetime.now()\n",
    "for i in tqdm(range(len(list_reads))) :\n",
    "    list_reads[i].append(string_location(list_genom[0][0],DC3_save,list_reads[i][0]))\n",
    "time_imp = datetime.now() - now_out\n",
    "print(\"Temps total =\", time_imp)"
   ]
  },
  {
   "cell_type": "code",
   "execution_count": 70,
   "id": "ba0cf52b",
   "metadata": {},
   "outputs": [
    {
     "name": "stdout",
     "output_type": "stream",
     "text": [
      "640851  chromosome: 1\n",
      "947102  chromosome: 2\n",
      "1067971  chromosome: 3\n",
      "1200490  chromosome: 4\n",
      "1343557  chromosome: 5\n",
      "1418242  chromosome: 6\n",
      "1445207  chromosome: 7\n",
      "1472805  chromosome: 8\n",
      "1541735  chromosome: 9\n",
      "1687656 chromosome: 10\n",
      "2038340 chromosome: 11\n",
      "2271494 chromosome: 12\n",
      "2925236 chromosome: 13\n",
      "3291936 chromosome: 14\n",
      "34250 D7, apicoplast\n",
      "5.136819635141398\n"
     ]
    }
   ],
   "source": [
    "for el in list_genom :\n",
    "    print(len(el[0]), el[1])\n",
    "    \n",
    "print(3291936/640851)"
   ]
  },
  {
   "cell_type": "markdown",
   "id": "522bc327",
   "metadata": {},
   "source": [
    "### Fonction d'exportation de données"
   ]
  },
  {
   "cell_type": "code",
   "execution_count": 2,
   "id": "f1adf184",
   "metadata": {},
   "outputs": [],
   "source": [
    "def export_file(data, filename, prog) :\n",
    "    \n",
    "    if prog == \"DC3\" :\n",
    "            filename = \"DC3_save/\" + filename\n",
    "    elif prog == \"Map\" :\n",
    "            filename = \"Mapping_save/\" + filename\n",
    "    \n",
    "    with open(filename, 'w') as f:\n",
    "        \n",
    "        # Partie DC3:\n",
    "        if prog == \"DC3\" :\n",
    "            for el in data :\n",
    "                f.write(str(el) + \" \")\n",
    "                \n",
    "        if prog == \"Map\" :\n",
    "            f.write(str(len(data)) + \"\\n\")\n",
    "            for el in data :\n",
    "                f.write(el[0] + \"&\" + el[1] + \"&\" + str(el[2]) + \"&\" + str(el[3]) + \"\\n\" )\n",
    "        \n",
    "    \n",
    "    \n",
    "def import_file(filename, prog) :\n",
    "    \n",
    "    if prog == \"DC3\" :\n",
    "            filename = \"DC3_save/\" + filename\n",
    "    elif prog == \"Map\" :\n",
    "            filename = \"Mapping_save/\" + filename\n",
    "    \n",
    "    with open(filename, 'r') as f:\n",
    "        \n",
    "        # Partie DC3:\n",
    "        if prog == \"DC3\" :\n",
    "            text = f.readline()\n",
    "            data = text.split(\" \")[:-1]\n",
    "            print(data)\n",
    "            for i in range(len(data)) :\n",
    "                data[i] = int(data[i])\n",
    "            return(data)\n",
    "        \n",
    "        elif prog == \"Map\" :\n",
    "            n = int(f.readline())\n",
    "            data = []\n",
    "            for i in range(n):\n",
    "                temp = f.readline()\n",
    "                temp = temp.split(\"&\")\n",
    "                temp_lis = temp[3][1:-2].split(\",\") # Car il reste les []\n",
    "                lis = []\n",
    "                for j in range(len(temp_lis)) :\n",
    "                    lis.append(int(temp_lis[j]))\n",
    "                data.append([temp[0], temp[1], int(temp[2]), lis])\n",
    "            return data\n",
    "    "
   ]
  },
  {
   "cell_type": "code",
   "execution_count": 9,
   "id": "6d1fb4b0",
   "metadata": {},
   "outputs": [
    {
     "name": "stderr",
     "output_type": "stream",
     "text": [
      "IOPub data rate exceeded.\n",
      "The notebook server will temporarily stop sending output\n",
      "to the client in order to avoid crashing it.\n",
      "To change this limit, set the config variable\n",
      "`--NotebookApp.iopub_data_rate_limit`.\n",
      "\n",
      "Current values:\n",
      "NotebookApp.iopub_data_rate_limit=1000000.0 (bytes/sec)\n",
      "NotebookApp.rate_limit_window=3.0 (secs)\n",
      "\n"
     ]
    }
   ],
   "source": [
    "data = DC3_chrom2\n",
    "filename = \"DC3_chrom1.txt\"\n",
    "\n",
    "export_file(data, filename, \"DC3\")\n",
    "\n",
    "data_test = import_file(filename, \"DC3\")\n",
    "\n",
    "print(data_test == DC3_chrom2)"
   ]
  },
  {
   "cell_type": "code",
   "execution_count": 11,
   "id": "2fa55442",
   "metadata": {
    "scrolled": true
   },
   "outputs": [
    {
     "name": "stdout",
     "output_type": "stream",
     "text": [
      "True\n"
     ]
    }
   ],
   "source": [
    "DC3_save = import_file(\"DC3_chrom1.txt\", \"DC3\")"
   ]
  },
  {
   "cell_type": "markdown",
   "id": "912062da",
   "metadata": {},
   "source": [
    "### Fonction d'importation des données"
   ]
  },
  {
   "cell_type": "code",
   "execution_count": 3,
   "id": "5170ad87",
   "metadata": {},
   "outputs": [],
   "source": [
    "def genome_import() :\n",
    "    \"\"\"\n",
    "    Fonction qui importe depuis un fichier fasta la séquence du génome dans une liste contenant [\"seq\", \"n°k\"]\n",
    "    \"\"\"\n",
    "    list_genom=[]\n",
    "    for record in SeqIO.parse(\"GCF_000002765.5_GCA_000002765_genomic.fna\",\"fasta\"):\n",
    "        list_genom.append([str(record.seq).upper(),record.description[-14:]]) # attention le marquage est à changer pour la dernière séquence\n",
    "    \n",
    "    return list_genom\n",
    "    \n",
    "    \n",
    "def reads_import() :\n",
    "    \"\"\"\n",
    "    Fonction qui importe depuis un fichier fasta les séquences des reads dans une liste contenant [\"seq\", \"nom\"]\n",
    "    \"\"\"\n",
    "    list_reads=[]\n",
    "    with open(\"single_Pfal_dat.fq\") as in_handle:\n",
    "        for title, seq, qual in tqdm(FastqGeneralIterator(in_handle), desc = \"Import sequence\"):\n",
    "            list_reads.append([str(seq).upper(),title])\n",
    "            \n",
    "    return list_reads\n",
    "\n",
    "\n",
    "\n",
    "def reads_import_cuts(k) :\n",
    "    \"\"\"\n",
    "    Fonction qui importe depuis un fichier fasta les séquences des reads et les coupes en les rangeant\n",
    "    dans une liste contenant [\"seq\", \"nom\", \"n°kmer\"]\n",
    "    \n",
    "    Entrée : k, int : longueur du kmer\n",
    "    \n",
    "    Sortie : list_reads : liste de tous les read découpés en kmers\n",
    "    \"\"\"\n",
    "    list_reads=[]\n",
    "    with open(\"single_Pfal_dat.fq\") as in_handle:\n",
    "        for title, seq, qual in tqdm(FastqGeneralIterator(in_handle), desc = \"Import sequence\"):\n",
    "            i = 1    # Incrémenteur du nombre de k-mer\n",
    "            while len(seq) >= 1 : # On parcoure toute la séquence\n",
    "                if len(seq) > k : # Cas où le k-mer est entier\n",
    "                    list_reads.append([str(seq[0:k]).upper(),title, i])\n",
    "                    i += 1\n",
    "                    seq = seq[k:]\n",
    "                else : # Cas où le dernier k-mer n'est pas entier\n",
    "                    list_reads.append([str(seq).upper(),title, i])\n",
    "                    seq = \"\"\n",
    "            \n",
    "    return list_reads"
   ]
  },
  {
   "cell_type": "code",
   "execution_count": 4,
   "id": "bf8c896f",
   "metadata": {},
   "outputs": [
    {
     "name": "stderr",
     "output_type": "stream",
     "text": [
      "Import sequence: 1500000it [00:08, 180469.07it/s]\n"
     ]
    },
    {
     "name": "stdout",
     "output_type": "stream",
     "text": [
      "[['TTTCCTTTTTAAGCGTTTTATTTTTTAATAAAAAAAATATAGTATTATATAGTAACGGGTGAAAAGATCCATATAAATAAATATATGAGGAATATATTAA', 'NC_004325.2-100000'], ['TATATCTTTAAAATGATGTTGCAAATTTATTGAACATGTTAATAAATCATCCTGTTCATTTTGTATGTCTACTAAATTATGTAACGTATCCTCTTCTTCA', 'NC_004325.2-99999'], ['TCATGATTTACATATATTTGTAAAACATATATAATCTGTCCAGACATATTATATAATTGATAATATAATATATATATATATATATAAATTATTACTTCTC', 'NC_004325.2-99998'], ['AATTAATAATTATTATTATTACATATATATTTGTTATGTTTTGTTATATAATATTTAATATGAAGTATTATATAAATATATATATATATGTGTGCCATGT', 'NC_004325.2-99997'], ['ATGCTTTTTAAAAATGAAGACAGTGGCAATGGTGTTTACGGTTTTACTTATAATAATTTTAGTGATGTTACTATATCTGATATTTTAAATATAAGGAATG', 'NC_004325.2-99996'], ['AAAATATTAATATAGAAATGTTAAAAATACGAATCAATTATATTTGTGATAAAGAAAATATTAAAATTAATAATGATTCTATAAATAAGTTAATAGATAT', 'NC_004325.2-99995']]\n"
     ]
    },
    {
     "name": "stderr",
     "output_type": "stream",
     "text": [
      "Import sequence: 1500000it [00:31, 47166.24it/s]"
     ]
    },
    {
     "name": "stdout",
     "output_type": "stream",
     "text": [
      "[['TTTCCTTTTT', 'NC_004325.2-100000', 1], ['AAGCGTTTTA', 'NC_004325.2-100000', 2], ['TTTTTTAATA', 'NC_004325.2-100000', 3], ['AAAAAAATAT', 'NC_004325.2-100000', 4], ['AGTATTATAT', 'NC_004325.2-100000', 5], ['AGTAACGGGT', 'NC_004325.2-100000', 6], ['GAAAAGATCC', 'NC_004325.2-100000', 7], ['ATATAAATAA', 'NC_004325.2-100000', 8], ['ATATATGAGG', 'NC_004325.2-100000', 9], ['AATATATTAA', 'NC_004325.2-100000', 10], ['TATATCTTTA', 'NC_004325.2-99999', 1], ['AAATGATGTT', 'NC_004325.2-99999', 2]]\n"
     ]
    },
    {
     "name": "stderr",
     "output_type": "stream",
     "text": [
      "\n"
     ]
    }
   ],
   "source": [
    "print(reads_import()[0:6])\n",
    "\n",
    "print(reads_import_cuts(10)[0:12])"
   ]
  },
  {
   "cell_type": "markdown",
   "id": "f834534d",
   "metadata": {},
   "source": [
    "### Fonction pour le mapping\n",
    "\n",
    "#### Radix et counting sort"
   ]
  },
  {
   "cell_type": "code",
   "execution_count": 4,
   "id": "dbea51bc",
   "metadata": {},
   "outputs": [],
   "source": [
    "def flatten(arr):\n",
    "    # voir import\n",
    "    return ft.reduce(lambda x, y: x + y, arr)\n",
    "\n",
    "def counting_sort(array,digit,p): \n",
    "    \"\"\"\n",
    "    Nécessaire pour le radix sort, je te le laisse Erwan\n",
    "    \"\"\"\n",
    "    ##The counting sort is a stable sort used in the radic sort\n",
    "    ##here the counting sort needs to be adapted to look at only one digit of each number (for radix)\n",
    "    ##we also added the parameter p to be able to read the triplets (more info below)\n",
    "    ##1) since we only sort single digits, the max will always be smaller than 10\n",
    "    ##2) create count index (that will have the cumulative index in the end)\n",
    "    count_list = [[]for i in range(10)]\n",
    "    for tpl in array :\n",
    "        n_uplet = tpl[0]##we take the first element of the tuple, the n-uplet\n",
    "        num = n_uplet[p] // digit ##we cut off the digits to the right by getting the quotient of the euclidian division\n",
    "        ##p is the index of the number studied in the triplet\n",
    "        count_list[num%10].append(tpl)##we cut off the digits to the left by getting the remainder of the euclidian division\n",
    "    arr_ord = flatten(count_list)\n",
    "\n",
    "    for i in range(len(array)):##we change the base array to allow the radix sort to loop easily\n",
    "        array[i] = arr_ord[i]\n",
    "        \n",
    "def radix_sort(array,p):\n",
    "    \"\"\"\n",
    "    Prend en entrée un tableau de valeur de valeur et le trie en foncion de la première composante\n",
    "    selon l'algorithm du radix sort\n",
    "    \n",
    "    Entrée : array à trier\n",
    "             p : nombre de cases à trier p-uplets\n",
    "    \n",
    "    Sortie : array trié\n",
    "    \"\"\"\n",
    "    ##Here the radix sort is modified to work with the triplet list sent by the DC3\n",
    "    ##The code is not flexible enough to compute all characters in the ascii table, but it's enough for the use needed\n",
    "    ##1) we search for the max in the nuplets\n",
    "    mx = (max(array)[0])[0]+1\n",
    "    if p != 3 : ##we take max = 100 because A T C G are all below 100 in ascii code\n",
    "        for tpl in array:\n",
    "            n_uplet = tpl[0]\n",
    "            if n_uplet[-1] > mx :\n",
    "                mx = n_uplet[-1]+1\n",
    "    '''##2) to know how many loops we have to do, we will use a variable to represent,\n",
    "    the digit we are currently in'''\n",
    "    for i in reversed(range(0,p)):\n",
    "        digit = 1 ##starts at one for units\n",
    "        while mx - digit > 0 :##when all the digits are checked, digit will be greater than the maximum\n",
    "            counting_sort(array,digit,i)\n",
    "            digit *= 10 ##digit will go to the tens, the hundreds, the thousands...\n"
   ]
  },
  {
   "cell_type": "markdown",
   "id": "3799f9de",
   "metadata": {},
   "source": [
    "#### DC3"
   ]
  },
  {
   "cell_type": "code",
   "execution_count": 5,
   "id": "e84a3668",
   "metadata": {},
   "outputs": [],
   "source": [
    "def DC3(S, P_12_base = []) :\n",
    "    \"\"\"\n",
    "    Create the suffix array from DC3 algorithm, could be recursive if needed\n",
    "    \n",
    "    Args:\n",
    "        S (str): string\n",
    "        P_12_base : store P1+2 from recursion to map correctly recursivity\n",
    "    \n",
    "    Return:\n",
    "        index_012 : suffix array of S\n",
    "        order_12 : order of the next recursion to map correctly recursivity\n",
    "    \"\"\"\n",
    "    \n",
    "    DC3_table = np.zeros((3,len(S) + 3), dtype=int) # Les caractères sentinelles sont déja là !\n",
    "    \"\"\"\n",
    "    Table de DC3 qui contient en chaque ligne : \n",
    "    Ligne 0 : indice du caractère\n",
    "    Ligne 1 : conversion du caractère en nombre\n",
    "    Ligne 2 : Ordre de l'indice du caractère\n",
    "    \n",
    "    \"\"\"\n",
    "\n",
    "    for i in range(len(S) + 3) :\n",
    "            DC3_table[0][i] =  i # On remplace le caractère par son code Ascii\n",
    "    \n",
    "    # String conversion : !!!!! à n'executer que lors de la première récursion !!!!!\n",
    "    if type(S) == str :\n",
    "        S_l = [*S] # On sépare caractère par caractère : \"ATGC\" devient [\"A\",\"T\",\"G\",\"C\"]\n",
    "        for i in range(len(S_l)) :\n",
    "            DC3_table[1][i] =  ord(S_l[i]) # On rempli le caractère par son code Ascii dans la table\n",
    "    else :\n",
    "         for i in range(len(S)) :\n",
    "            DC3_table[1][i] =  S[i] # Cas où l'on rentre dans la boucle une deuxième fois ou plus, pas de conversion\n",
    "    \"\"\"\n",
    "    # Cas où la chaine n'est composé que d'une seule lettre : trivial car DC3 = ordre des indices en décroissant\n",
    "    equal = True\n",
    "    for i in range(len(S)) :\n",
    "        if DC3_table[1][0] != DC3_table[1][i] :\n",
    "            equal = False\n",
    "            break # On teste si la chaine n'est composé que d'une seule lettre\n",
    "    if equal == True :\n",
    "         return [*range(len(S)-1,-1,-1)]\n",
    "    \"\"\"\n",
    "    \n",
    "    # On crée P0, P1, P2 et P1+P2 :    \n",
    "    P0 = [*range(0,len(S)+1,3)] \n",
    "    P1 = [*range(1,len(S)+1,3)]\n",
    "    P2 = [*range(2,len(S)+1,3)]\n",
    "    \n",
    "    P_12 = P1 + P2\n",
    "    \n",
    "\n",
    "    #Obtention des triplets à partir de P1+P2 :\n",
    "    R_12 = []\n",
    "    for val in P_12 :\n",
    "        R_12.append([list(DC3_table[1][val:val+3]), val])\n",
    "    \n",
    "    now = datetime.now()\n",
    "\n",
    "    radix_sort(R_12,3) # On trie les triplets\n",
    "    \n",
    "    time_imp = datetime.now() - now\n",
    "    print(\"Temps tri liste R =\", time_imp)\n",
    "\n",
    "    index_12 = [] # Liste des indexes de R12 trié\n",
    "    order_count = 1 # Compteur pour remplir l'ordre\n",
    "    recur = False # Etat de la récursion tourné True si on a des égalités d'ordre\n",
    "    for j in range(len(R_12)) : # On parcours tous les triplets triés\n",
    "        index_12.append(R_12[j][1]) # ... pour lui attribuer son index depuis P_12\n",
    "        DC3_table[2][R_12[j][1]] = order_count # Et on ajoute l'ordre dans la table\n",
    "        if j < len(R_12)-1 :\n",
    "            if R_12[j][0] != R_12[j+1][0] : # On teste l'égalité des triplets pour mettre l'ordre\n",
    "                order_count += 1\n",
    "            else :\n",
    "                recur = True # On a égalité, donc on doit relancer l'algorithme à la fin des for\n",
    "        else :\n",
    "            order_count += 1\n",
    "\n",
    "    if recur == True :\n",
    "        new_S = [] # On crée T' la séquence des orders suivant l'ordre de P12\n",
    "        for l in P_12 :\n",
    "            new_S.append(DC3_table[2][l])\n",
    "        index_012 = DC3(new_S, P_12) # On doit récupérer ces deux paramètres sinon ça marche pas\n",
    "        index_12 = []\n",
    "        for ind,val in index_012 :\n",
    "            DC3_table[2][ind] = val\n",
    "            index_12.append(ind)\n",
    "        \n",
    "    time_imp_out = datetime.now() - now_out\n",
    "    print(\"Temps recur =\", time_imp_out)\n",
    "    \n",
    "    R_0 = [] # On crée la dernière partie à trier\n",
    "    for val in P0 :\n",
    "        R_0.append([[int(DC3_table[1][val]), DC3_table[2][val + 1]], val]) # On crée R0 avec son indice\n",
    "    \n",
    "    \n",
    "    radix_sort(R_0,2)\n",
    "    \n",
    "    \n",
    "    now = datetime.now()\n",
    "    \n",
    "    index_0 = [] # Liste des indexes de R0 trié\n",
    "    for k in range(len(R_0)) : # On parcours tous les doublets triés\n",
    "       index_0.append(R_0[k][1]) # On récupère l'indice\n",
    "    \n",
    "    time_imp = datetime.now() - now\n",
    "    print(\"Temps index R0 :\", time_imp)\n",
    "    now = datetime.now()\n",
    "    \n",
    "    index_012 = [] # On crée l'index final en ordonant 0 et 1,2\n",
    "    i_0 = 0\n",
    "    i_12 = 0\n",
    "    \n",
    "    #for _ in range(len(index_0)+len(index_12)) :\n",
    "    while (i_0 < len(index_0) or i_12 < len(index_12)) : # On prends tout les éléments : on vide index 0 et 12\n",
    "        if i_0 == len(index_0) : # Cas où index 0 est vide, on rempli avec index 12\n",
    "            index_012.append(index_12[i_12])\n",
    "            i_12 += 1\n",
    "        elif i_12 == len(index_12) : # Cas où index 12 est vide, on rempli avec index 0\n",
    "            index_012.append(index_0[i_0])\n",
    "            i_0 += 1\n",
    "        elif int(DC3_table[1][index_0[i_0]]) > int(DC3_table[1][index_12[i_12]]) : # Cas où index 12 arrive avant index 0\n",
    "            index_012.append(index_12[i_12])\n",
    "            i_12 += 1\n",
    "        elif int(DC3_table[1][index_0[i_0]]) < int(DC3_table[1][index_12[i_12]]) : # Cas où index 0 arrive avant index 12\n",
    "            index_012.append(index_0[i_0])\n",
    "            i_0 += 1\n",
    "        else : # Cas d'égalité sur l'indice : si les 2 indexes renvoient le même nombre \n",
    "            if index_12[i_12] % 3 == 1 :\n",
    "                if index_12.index(index_0[i_0] + 1) > index_12.index(index_12[i_12] + 1) : # Cas où index 12 au deuxième terme arrive avant index 0 au deuxième terme\n",
    "                    index_012.append(index_12[i_12])\n",
    "                    i_12 += 1\n",
    "                else : # Cas où index 0 au deuxième terme arrive avant index 12 au deuxième terme\n",
    "                    index_012.append(index_0[i_0])\n",
    "                    i_0 += 1\n",
    "            else :\n",
    "                if int(DC3_table[1][index_0[i_0] + 1]) > int(DC3_table[1][index_12[i_12] + 1]) : # On teste dabord cas où index 12 + 1 arrive avant index 0 + 1\n",
    "                    index_012.append(index_12[i_12])\n",
    "                    i_12 += 1\n",
    "                elif int(DC3_table[1][index_0[i_0] + 1]) < int(DC3_table[1][index_12[i_12] + 1]) : # Cas où index 0 + 1 arrive avant index 12 + 1\n",
    "                    index_012.append(index_0[i_0])\n",
    "                    i_0 += 1\n",
    "                elif index_12.index(index_0[i_0] + 2) > index_12.index(index_12[i_12] + 2) : # Cas où index 12 au deuxième terme arrive avant index 0 au troisième terme\n",
    "                    index_012.append(index_12[i_12])\n",
    "                    i_12 += 1\n",
    "                else : # Cas où index 0 au troisième terme arrive avant index 12 au deuxième terme\n",
    "                    index_012.append(index_0[i_0])\n",
    "                    i_0 += 1\n",
    "\n",
    "    time_imp = datetime.now() - now\n",
    "    print(\"Temps index_012 :\", time_imp)\n",
    "    \n",
    "    if int(DC3_table[1][index_012[0]]) == 0 : # On enlève le terme sentinel s'il est présent\n",
    "        index_012 = index_012[1:]\n",
    "\n",
    "    if len(P_12_base) > 0 : # Mapping sur recursion -1 si existe\n",
    "        new_index_012 = []\n",
    "        for n in range(len(index_012)) :\n",
    "            new_index_012.append([P_12_base[index_012[n]], n])\n",
    "        index_012 = new_index_012\n",
    "   \n",
    "\n",
    "    return index_012 # Retourne le suffix array si dernière récursion"
   ]
  },
  {
   "cell_type": "markdown",
   "id": "d260f2db",
   "metadata": {},
   "source": [
    "#### BWT"
   ]
  },
  {
   "cell_type": "code",
   "execution_count": 7,
   "id": "7dffd44d",
   "metadata": {},
   "outputs": [],
   "source": [
    "def BWT(T, DC3_T):\n",
    "    \"\"\"\n",
    "    Compute the BWT from the suffix table\n",
    "\n",
    "    Args:\n",
    "        T (str): string\n",
    "        end_of_string (char): end of string character to append\n",
    "\n",
    "    Return:\n",
    "        bwt (str): BWT\n",
    "    \"\"\"\n",
    "    bwt = \"\"\n",
    "    text= T ##+ \"$\"\n",
    "    sf_tab = DC3_T\n",
    "    for i in range(len(sf_tab)):\n",
    "        crt = sf_tab[i]\n",
    "        bwt += text[crt-1]\n",
    "    return(bwt)"
   ]
  },
  {
   "cell_type": "markdown",
   "id": "28a7a690",
   "metadata": {},
   "source": [
    "#### Pattern matching"
   ]
  },
  {
   "cell_type": "code",
   "execution_count": 8,
   "id": "2bec448e",
   "metadata": {},
   "outputs": [],
   "source": [
    "def pattern_matching_BWT(S, DC3_T, pattern):\n",
    "    \"\"\"\n",
    "    Search a pattern in a String using the BWT\n",
    "\n",
    "    Args:\n",
    "        S (str): string\n",
    "        pattern (str): pattern\n",
    "\n",
    "    Return:\n",
    "        bool: true if the pattern is in the string\n",
    "    \"\"\"\n",
    "    S = S ##+ \"$\"\n",
    "    pattern_in_S = False\n",
    "    L = list(BWT(S, DC3_T))\n",
    "    LS = L + []\n",
    "    LS.sort()\n",
    "    lpattern = list(pattern)\n",
    "    ##initialisation de l'alphabet, de l'index et du compteur total de char\n",
    "    alphabet = []\n",
    "    for i in range(len(L)):\n",
    "        if L[i] not in alphabet:\n",
    "            alphabet.append(L[i])\n",
    "    alphabet.sort()\n",
    "    total = []\n",
    "    index = L+[]\n",
    "    for lett in alphabet:\n",
    "        cntr = 0\n",
    "        for i in range(len(L)):\n",
    "            if L[i]==lett:\n",
    "                cntr +=1\n",
    "                index[i]=(lett,cntr)\n",
    "        total.append((lett,cntr))\n",
    "    somme = []\n",
    "    som=0\n",
    "    for tpl in total:\n",
    "        som += tpl[1]\n",
    "        somme.append((tpl[0],som))\n",
    "    '''\n",
    "    test de recuperation index\n",
    "    '''\n",
    "    start_string = -1\n",
    "    end_string = -1\n",
    "    '''\n",
    "    fin du test\n",
    "    '''\n",
    "    ##init des valeurs utiles pour la substring search\n",
    "    e = 0\n",
    "    f = len(L)\n",
    "    i = len(lpattern)-1\n",
    "    ##début de la boucle de recherche\n",
    "    while e < f and i > 0 :\n",
    "        X = lpattern[i]\n",
    "        Y = lpattern[i-1]\n",
    "        r = 0\n",
    "        s = 0\n",
    "        suite_impos = True\n",
    "        for tpl in somme :\n",
    "            if tpl[0]<X:\n",
    "                r = tpl[1] ##donne place du premier char dans la liste ordonnée\n",
    "            if tpl[0]==X:\n",
    "                s = tpl[1]-1 ##donne place du dernier char\n",
    "        if e>r:\n",
    "            r = e\n",
    "        if f<s:\n",
    "            s = f\n",
    "        for u in range(r,s+1):\n",
    "            if L[u]==Y:\n",
    "                suite_impos= False\n",
    "                prev = 0\n",
    "                id = index[u]\n",
    "                start_string = u\n",
    "                for tpl in somme :\n",
    "                    if tpl[0]<Y:\n",
    "                        prev = tpl[1]\n",
    "                e = prev + id[1]-1\n",
    "            if(suite_impos==False):##we use the boolean to exit the loop early\n",
    "                break\n",
    "        char_found = False  ##this allows to exit the loop early if the char has been found\n",
    "        for u in reversed(range(r,s+1)):\n",
    "            if L[u]==Y:\n",
    "                char_found = True\n",
    "                prev = 0\n",
    "                id = index[u]\n",
    "                end_string = u\n",
    "                for tpl in somme :\n",
    "                    if tpl[0]<Y:\n",
    "                        prev = tpl[1]\n",
    "                f = prev + id[1]-1\n",
    "            if(char_found):\n",
    "                break\n",
    "        if suite_impos :## this will stop the loop if no char has been found in the previous one\n",
    "            break\n",
    "        i-=1\n",
    "    ##dans le cas où e = f, il faut vérifier que le reste du substring est bon\n",
    "    if i > 0 :\n",
    "        while i > 0 :\n",
    "            if L[e] != lpattern[i-1]:\n",
    "                break\n",
    "            prev = 0\n",
    "            id=index[e]\n",
    "            ##start_string = e\n",
    "            ##end_string = e\n",
    "            for tpl in somme :\n",
    "                if tpl[0]<L[e]:\n",
    "                    prev = tpl[1]\n",
    "\n",
    "            e = prev + id[1]-1\n",
    "            i -= 1\n",
    "    if i < 1 :\n",
    "        pattern_in_S = True\n",
    "    if suite_impos:\n",
    "        i = 0\n",
    "        pattern_in_S = False\n",
    "    return pattern_in_S,start_string,end_string"
   ]
  },
  {
   "cell_type": "markdown",
   "id": "28d7a634",
   "metadata": {},
   "source": [
    "#### String location"
   ]
  },
  {
   "cell_type": "code",
   "execution_count": 9,
   "id": "36af3965",
   "metadata": {},
   "outputs": [],
   "source": [
    "def string_location(text,DC3_T,string):\n",
    "    '''\n",
    "    Gives the position of each occurence of the substring in the text\n",
    "\n",
    "    Args :\n",
    "        text (string) : the text in DC3 form to search in\n",
    "        string (string) : the substring to be searched\n",
    "\n",
    "    Return :\n",
    "        ???\n",
    "    '''\n",
    "    result = pattern_matching_BWT(text,DC3_T,string)\n",
    "    sft = DC3_T\n",
    "    list_occur = []\n",
    "    if result[0] == False :\n",
    "        #print(\"No occurence of the substring was found\")\n",
    "        list_occur.append(-1)\n",
    "    else :\n",
    "        for i in range(result[1],(result[2]+1)):\n",
    "            id = sft[i] - 1 ##id = 66 pour bon result\n",
    "            list_occur.append(id)\n",
    "            #print(T[id:id+len(string)])\n",
    "    return list_occur"
   ]
  },
  {
   "cell_type": "code",
   "execution_count": 48,
   "id": "3a458caa",
   "metadata": {},
   "outputs": [
    {
     "name": "stdout",
     "output_type": "stream",
     "text": [
      "103\n"
     ]
    },
    {
     "ename": "TypeError",
     "evalue": "string_location() missing 1 required positional argument: 'string'",
     "output_type": "error",
     "traceback": [
      "\u001b[1;31m---------------------------------------------------------------------------\u001b[0m",
      "\u001b[1;31mTypeError\u001b[0m                                 Traceback (most recent call last)",
      "\u001b[1;32m~\\AppData\\Local\\Temp\\ipykernel_1360\\1720795402.py\u001b[0m in \u001b[0;36m<module>\u001b[1;34m\u001b[0m\n\u001b[0;32m      2\u001b[0m \u001b[0mpatt\u001b[0m \u001b[1;33m=\u001b[0m \u001b[1;34m\"TGCACC\"\u001b[0m\u001b[1;33m\u001b[0m\u001b[1;33m\u001b[0m\u001b[0m\n\u001b[0;32m      3\u001b[0m \u001b[0mprint\u001b[0m\u001b[1;33m(\u001b[0m\u001b[0mlen\u001b[0m\u001b[1;33m(\u001b[0m\u001b[0mT\u001b[0m\u001b[1;33m)\u001b[0m\u001b[1;33m)\u001b[0m\u001b[1;33m\u001b[0m\u001b[1;33m\u001b[0m\u001b[0m\n\u001b[1;32m----> 4\u001b[1;33m \u001b[0mprint\u001b[0m\u001b[1;33m(\u001b[0m\u001b[0mstring_location\u001b[0m\u001b[1;33m(\u001b[0m\u001b[0mT\u001b[0m\u001b[1;33m,\u001b[0m\u001b[0mpatt\u001b[0m\u001b[1;33m)\u001b[0m\u001b[1;33m)\u001b[0m\u001b[1;33m\u001b[0m\u001b[1;33m\u001b[0m\u001b[0m\n\u001b[0m\u001b[0;32m      5\u001b[0m \u001b[0mprint\u001b[0m\u001b[1;33m(\u001b[0m\u001b[0mT\u001b[0m\u001b[1;33m[\u001b[0m\u001b[1;36m67\u001b[0m\u001b[1;33m:\u001b[0m\u001b[1;33m]\u001b[0m\u001b[1;33m)\u001b[0m\u001b[1;33m\u001b[0m\u001b[1;33m\u001b[0m\u001b[0m\n",
      "\u001b[1;31mTypeError\u001b[0m: string_location() missing 1 required positional argument: 'string'"
     ]
    }
   ],
   "source": [
    "T = \"TTTCCAATTAATTATCAAGTCTGTTTTGGGTTTCCAATTAATTATCACCAGTCTGTTTTGGGACTCTGCACCTAATCCCCAACACTTTGAGAAACACTTTGAG\"\n",
    "patt = \"TGCACC\"\n",
    "print(len(T))\n",
    "print(string_location(T,patt))\n",
    "print(T[67:])"
   ]
  },
  {
   "cell_type": "code",
   "execution_count": null,
   "id": "13cdc855",
   "metadata": {},
   "outputs": [],
   "source": []
  },
  {
   "cell_type": "code",
   "execution_count": null,
   "id": "bcc4ef1e",
   "metadata": {},
   "outputs": [],
   "source": []
  },
  {
   "cell_type": "code",
   "execution_count": null,
   "id": "ab162974",
   "metadata": {},
   "outputs": [],
   "source": []
  }
 ],
 "metadata": {
  "kernelspec": {
   "display_name": "Python 3 (ipykernel)",
   "language": "python",
   "name": "python3"
  },
  "language_info": {
   "codemirror_mode": {
    "name": "ipython",
    "version": 3
   },
   "file_extension": ".py",
   "mimetype": "text/x-python",
   "name": "python",
   "nbconvert_exporter": "python",
   "pygments_lexer": "ipython3",
   "version": "3.9.13"
  }
 },
 "nbformat": 4,
 "nbformat_minor": 5
}
